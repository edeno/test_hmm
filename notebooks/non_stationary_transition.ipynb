{
 "cells": [
  {
   "cell_type": "code",
   "execution_count": 113,
   "metadata": {},
   "outputs": [
    {
     "data": {
      "text/plain": [
       "array([[[0.25      , 0.25      , 0.5       ],\n",
       "        [0.33333333, 0.11111111, 0.55555556],\n",
       "        [0.42857143, 0.5       , 0.07142857]],\n",
       "\n",
       "       [[0.04545455, 0.45454545, 0.5       ],\n",
       "        [0.44444444, 0.03703704, 0.51851852],\n",
       "        [0.46875   , 0.5       , 0.03125   ]],\n",
       "\n",
       "       [[0.025     , 0.475     , 0.5       ],\n",
       "        [0.46666667, 0.02222222, 0.51111111],\n",
       "        [0.48      , 0.5       , 0.02      ]],\n",
       "\n",
       "       [[0.01724138, 0.48275862, 0.5       ],\n",
       "        [0.47619048, 0.01587302, 0.50793651],\n",
       "        [0.48529412, 0.5       , 0.01470588]]])"
      ]
     },
     "execution_count": 113,
     "metadata": {},
     "output_type": "execute_result"
    }
   ],
   "source": [
    "import numpy as np\n",
    "\n",
    "n_states = 3\n",
    "n_time = 5\n",
    "\n",
    "def convert_transition_rate_to_probabilities(transition_rate, dt=1):\n",
    "    transition_rate *= dt\n",
    "    transition_matrix = transition_rate.copy()\n",
    "    \n",
    "    n_states = transition_matrix.shape[1]\n",
    "    transition_matrix[:, np.arange(n_states), np.arange(n_states)] = 1\n",
    "    \n",
    "    norm = 1 + np.sum(transition_rate, axis=-1) - transition_rate[:, np.arange(n_states), np.arange(n_states)]\n",
    "    \n",
    "    return transition_matrix / norm[:, :, np.newaxis]\n",
    "    \n",
    "transition_rate = np.arange(n_states * n_states * (n_time - 1)).reshape((n_time - 1, n_states, n_states))\n",
    "convert_transition_rate_to_probabilities(transition_rate, dt=1)\n",
    "    "
   ]
  },
  {
   "cell_type": "code",
   "execution_count": null,
   "metadata": {},
   "outputs": [],
   "source": [
    "def negative_log_likelihood(coefficients, design_matrix, joint_prob):\n",
    "    transition_rate = np.exp(design_matrix @ coefficients)\n",
    "    return -1.0 * (joint_prob * convert_transition_rate_to_probabilities(transition_rate, dt=1)).sum()"
   ]
  },
  {
   "cell_type": "code",
   "execution_count": 151,
   "metadata": {},
   "outputs": [],
   "source": [
    "def transition_negative_log_likelihood(transition_rate, joint_prob, acausal_posterior, dt=1):\n",
    "    \"\"\"Negative log likelihood of transition matrix.\n",
    "\n",
    "    Parameters\n",
    "    ----------\n",
    "    transition_rate : np.ndarray, shape (n_time - 1, n_states, n_states)\n",
    "        The rate of transition from one state to another.\n",
    "    joint_prob : np.ndarray, shape (n_time - 1, n_states, n_states)\n",
    "        The joint probability of the current and next state.\n",
    "    acausal_posterior : np.ndarray, shape (n_time, n_states)\n",
    "        The acausal posterior probability of the current state.\n",
    "    dt : int, optional\n",
    "        Time step, by default 1\n",
    "\n",
    "    Returns\n",
    "    -------\n",
    "    negative_log_likelihood : float\n",
    "        The negative log likelihood of the transition matrix.\n",
    "    \"\"\"\n",
    "    transition_rate *= dt\n",
    "    numerator = (joint_prob * np.log(transition_rate)).sum(axis=-1) - (joint_prob[:, np.arange(n_states), np.arange(n_states)] * np.log(transition_rate[:, np.arange(n_states), np.arange(n_states)]))\n",
    "    denominator = (acausal_posterior[:-1] * np.log1p(np.sum(transition_rate, axis=-1) - transition_rate[:, np.arange(n_states), np.arange(n_states)]))\n",
    "    return -1.0 * (numerator - denominator[..., np.newaxis]).sum()"
   ]
  },
  {
   "cell_type": "code",
   "execution_count": null,
   "metadata": {},
   "outputs": [],
   "source": []
  },
  {
   "cell_type": "code",
   "execution_count": 152,
   "metadata": {},
   "outputs": [
    {
     "name": "stderr",
     "output_type": "stream",
     "text": [
      "/var/folders/86/m147b4k17lddvs_xsw0mj2zw0000gn/T/ipykernel_97176/418189776.py:23: RuntimeWarning: divide by zero encountered in log\n",
      "  return -1.0 * (joint_prob * np.log(transition_rate) - norm[..., np.newaxis]).sum()\n"
     ]
    },
    {
     "data": {
      "text/plain": [
       "inf"
      ]
     },
     "execution_count": 152,
     "metadata": {},
     "output_type": "execute_result"
    }
   ],
   "source": [
    "joint_prob = np.ones((n_time - 1, n_states, n_states))\n",
    "acausal_posterior = np.ones((n_time, n_states))\n",
    "\n",
    "transition_negative_log_likelihood(transition_rate, joint_prob, acausal_posterior, dt=1)"
   ]
  },
  {
   "cell_type": "code",
   "execution_count": 153,
   "metadata": {},
   "outputs": [
    {
     "name": "stderr",
     "output_type": "stream",
     "text": [
      "/var/folders/86/m147b4k17lddvs_xsw0mj2zw0000gn/T/ipykernel_97176/1478723949.py:2: RuntimeWarning: divide by zero encountered in log\n",
      "  blah = (joint_prob * np.log(transition_rate) - norm[..., np.newaxis])\n"
     ]
    }
   ],
   "source": [
    "norm = (acausal_posterior[:-1] * np.log1p(np.sum(transition_rate, axis=-1) - transition_rate[:, np.arange(n_states), np.arange(n_states)]))\n",
    "blah = (joint_prob * np.log(transition_rate) - norm[..., np.newaxis])"
   ]
  },
  {
   "cell_type": "code",
   "execution_count": 154,
   "metadata": {},
   "outputs": [
    {
     "data": {
      "text/plain": [
       "array([[       -inf, -1.38629436, -0.69314718],\n",
       "       [-1.09861229, -0.81093022, -0.58778666],\n",
       "       [-0.84729786, -0.69314718, -0.55961579]])"
      ]
     },
     "execution_count": 154,
     "metadata": {},
     "output_type": "execute_result"
    }
   ],
   "source": [
    "blah[0]"
   ]
  },
  {
   "cell_type": "code",
   "execution_count": 156,
   "metadata": {},
   "outputs": [
    {
     "ename": "SyntaxError",
     "evalue": "invalid syntax (3859807681.py, line 9)",
     "output_type": "error",
     "traceback": [
      "\u001b[0;36m  Input \u001b[0;32mIn [156]\u001b[0;36m\u001b[0m\n\u001b[0;31m    argh[k, n] -= acausal_posterior[k, n] * np.log1p(transition_rate[k, n].sum() - )\u001b[0m\n\u001b[0m                                                                                   ^\u001b[0m\n\u001b[0;31mSyntaxError\u001b[0m\u001b[0;31m:\u001b[0m invalid syntax\n"
     ]
    }
   ],
   "source": [
    "argh = np.zeros((n_time - 1, n_states))\n",
    "\n",
    "for k in range(n_time - 1):\n",
    "    for n in range(n_states):\n",
    "        for m in range(n_states):\n",
    "            if n != m:\n",
    "                argh[k, n] += joint_prob[k, n, m] * np.log(transition_rate[k, n, m])\n",
    "                \n",
    "            argh[k, n] -= acausal_posterior[k, n] * np.log1p(transition_rate[k, n].sum() - )"
   ]
  },
  {
   "cell_type": "code",
   "execution_count": 164,
   "metadata": {},
   "outputs": [
    {
     "name": "stderr",
     "output_type": "stream",
     "text": [
      "/var/folders/86/m147b4k17lddvs_xsw0mj2zw0000gn/T/ipykernel_97176/1898782678.py:1: RuntimeWarning: divide by zero encountered in log\n",
      "  (joint_prob * np.log(transition_rate)).sum(axis=-1) - (joint_prob[:, np.arange(n_states), np.arange(n_states)] *\n",
      "/var/folders/86/m147b4k17lddvs_xsw0mj2zw0000gn/T/ipykernel_97176/1898782678.py:2: RuntimeWarning: divide by zero encountered in log\n",
      "  np.log(transition_rate[:, np.arange(n_states), np.arange(n_states)]))\n",
      "/var/folders/86/m147b4k17lddvs_xsw0mj2zw0000gn/T/ipykernel_97176/1898782678.py:1: RuntimeWarning: invalid value encountered in subtract\n",
      "  (joint_prob * np.log(transition_rate)).sum(axis=-1) - (joint_prob[:, np.arange(n_states), np.arange(n_states)] *\n"
     ]
    },
    {
     "data": {
      "text/plain": [
       "array([[       nan, 2.7080502 , 3.73766962],\n",
       "       [4.70048037, 5.12396398, 5.48063892],\n",
       "       [5.94017125, 6.18001665, 6.39692966],\n",
       "       [6.69950034, 6.86693328, 7.02286809]])"
      ]
     },
     "execution_count": 164,
     "metadata": {},
     "output_type": "execute_result"
    }
   ],
   "source": []
  },
  {
   "cell_type": "code",
   "execution_count": 166,
   "metadata": {},
   "outputs": [
    {
     "data": {
      "text/plain": [
       "array([[ 0,  4,  8],\n",
       "       [ 9, 13, 17]])"
      ]
     },
     "execution_count": 166,
     "metadata": {},
     "output_type": "execute_result"
    }
   ],
   "source": [
    "blah = np.arange(18).reshape((2, 3, 3))\n",
    "\n",
    "np.diagonal(blah, axis1=1, axis2=2)"
   ]
  },
  {
   "cell_type": "code",
   "execution_count": 169,
   "metadata": {},
   "outputs": [
    {
     "data": {
      "text/plain": [
       "array([[ 3,  8, 13],\n",
       "       [21, 26, 31]])"
      ]
     },
     "execution_count": 169,
     "metadata": {},
     "output_type": "execute_result"
    }
   ],
   "source": [
    "blah.sum(axis=-1) - np.diagonal(blah, axis1=1, axis2=2)"
   ]
  },
  {
   "cell_type": "code",
   "execution_count": 178,
   "metadata": {},
   "outputs": [
    {
     "name": "stderr",
     "output_type": "stream",
     "text": [
      "/var/folders/86/m147b4k17lddvs_xsw0mj2zw0000gn/T/ipykernel_97176/704593671.py:5: RuntimeWarning: invalid value encountered in subtract\n",
      "  np.sum(xlogy(joint_prob, transition_rate), axis=-1) -\n"
     ]
    },
    {
     "data": {
      "text/plain": [
       "array([[       nan, 0.51082562, 1.09861229],\n",
       "       [1.60943791, 1.82812711, 2.01490302],\n",
       "       [2.2512918 , 2.37335416, 2.48490665],\n",
       "       [2.63905733, 2.72379856, 2.80336038]])"
      ]
     },
     "execution_count": 178,
     "metadata": {},
     "output_type": "execute_result"
    }
   ],
   "source": [
    "from scipy.special import xlogy, xlog1py\n",
    "\n",
    "def transition_negative_log_likelihood(coefficients, design_matrix, joint_prob, acausal_posterior, dt=1):\n",
    "    \"\"\"Negative log likelihood of transition matrix.\n",
    "\n",
    "    Parameters\n",
    "    ----------\n",
    "    coefficients : np.ndarray\n",
    "        The coefficients of the linear model for the transition rate.\n",
    "    design_matrix : np.ndarray, shape (n_time - 1, n_states, n_states, n_features)\n",
    "        The design matrix representing the linear model for the transition rate.\n",
    "    joint_prob : np.ndarray, shape (n_time - 1, n_states, n_states)\n",
    "        The joint probability of the current and next state.\n",
    "    acausal_posterior : np.ndarray, shape (n_time, n_states)\n",
    "        The acausal posterior probability of the current state.\n",
    "    dt : int, optional\n",
    "        Time step, by default 1\n",
    "\n",
    "    Returns\n",
    "    -------\n",
    "    negative_log_likelihood : float\n",
    "        The negative log likelihood of the transition matrix.\n",
    "    \"\"\"\n",
    "    transition_rate = np.exp(design_matrix @ coefficients) * dt\n",
    "    return -1.0 * (\n",
    "        np.sum(xlogy(joint_prob, transition_rate), axis=-1) -\n",
    "        np.diagonal(xlogy(joint_prob, transition_rate), axis1=1, axis2=2) -\n",
    "        xlog1py(acausal_posterior[:-1], np.sum(transition_rate, axis=-1) - np.diagonal(transition_rate, axis1=1, axis2=2))\n",
    "    ).sum()\n",
    "\n"
   ]
  },
  {
   "cell_type": "code",
   "execution_count": 179,
   "metadata": {},
   "outputs": [
    {
     "data": {
      "text/plain": [
       "(4, 3, 3)"
      ]
     },
     "execution_count": 179,
     "metadata": {},
     "output_type": "execute_result"
    }
   ],
   "source": [
    "transition_rate.shape"
   ]
  },
  {
   "cell_type": "code",
   "execution_count": null,
   "metadata": {},
   "outputs": [],
   "source": [
    "# transitions estimated for transitions away from state\n",
    "# n_state * (n_state - 1) * n_features transition filter parameters \n",
    "# stimulus of shape (n_time, n_features)\n",
    "# design_matrix of shape (n_time, n_features) @ coefficients of shape (n_features,)\n",
    "# transition_prob of shape (n_time, n_states, n_states)\n",
    "\n",
    "# link function must be exp. Can this be a multinomial GLM with softmax\n",
    "\n"
   ]
  },
  {
   "cell_type": "code",
   "execution_count": null,
   "metadata": {},
   "outputs": [],
   "source": [
    "# transition design matrix (n_time, n_coefficients, n_states, n_states)\n",
    "# coefficients (n_coefficients, n_state * (n_state - 1)), each column corresponds to the off-digonal elements of the transition matrix\n",
    "# estimate each row of the transition matrix independently (base case is self transition)\n",
    "# Need to simulate simple base case where the transition matrix is stationary for half the time and then switches to another stationary matrix for the other half of the time\n",
    "# 3 states"
   ]
  },
  {
   "cell_type": "code",
   "execution_count": 357,
   "metadata": {},
   "outputs": [
    {
     "data": {
      "text/plain": [
       "array([0.99991729, 0.98175626, 0.98145216])"
      ]
     },
     "execution_count": 357,
     "metadata": {},
     "output_type": "execute_result"
    }
   ],
   "source": [
    "import numpy as np\n",
    "from hmmlearn import hmm\n",
    "import matplotlib.pyplot as plt\n",
    "\n",
    "# Set the random seed for reproducibility\n",
    "np.random.seed(42)\n",
    "\n",
    "# Parameters\n",
    "num_states = 3\n",
    "num_time_points = 1_000_000\n",
    "sampling_rate = 250\n",
    "true_rates = np.array([10.0, 20.0, 30.0]) / sampling_rate  # Constant rates for the Poisson emission distributions\n",
    "\n",
    "# Define the stationary transition matrix\n",
    "true_transition_matrix = np.array(\n",
    "    [\n",
    "     [0.9999, (1-0.9999)/2, (1-0.9999)/2],\n",
    "     [0.01, 0.98, 0.01],\n",
    "     [0.01, 0.01, 0.98]\n",
    "     ]\n",
    ")\n",
    "\n",
    "# Define the initial probabilities for each state\n",
    "true_initial_conditions = np.array([1.0, 0.0, 0.0])\n",
    "\n",
    "# Define the Poisson HMM\n",
    "model = hmm.PoissonHMM(n_components=num_states, random_state=42, init_params=\"\", params=\"\")\n",
    "model.startprob_ = true_initial_conditions\n",
    "model.transmat_ = true_transition_matrix\n",
    "model.lambdas_ = true_rates.reshape(-1, 1)\n",
    "\n",
    "# Simulate the HMM\n",
    "observations, hidden_states = model.sample(num_time_points)\n",
    "\n",
    "estimated_transition = np.zeros((num_states, num_states))\n",
    "for prev_state in range(num_states):\n",
    "    for cur_state in range(num_states):\n",
    "        estimated_transition[prev_state, cur_state] = np.logical_and(\n",
    "            hidden_states[:-1] == prev_state, hidden_states[1:] == cur_state).sum() / (hidden_states[:-1] == prev_state).sum()\n",
    "        \n",
    "np.diagonal(estimated_transition)"
   ]
  },
  {
   "cell_type": "code",
   "execution_count": 358,
   "metadata": {},
   "outputs": [
    {
     "name": "stdout",
     "output_type": "stream",
     "text": [
      "Stats\n",
      "iteration 1, likelihood: -178682.27899745954\n",
      "Stats\n",
      "iteration 2, likelihood: -172068.27991221775, change: 6613.999085241783\n",
      "Stats\n",
      "iteration 3, likelihood: -172009.91340906662, change: 58.36650315113366\n",
      "Stats\n",
      "iteration 4, likelihood: -171981.37794274898, change: 28.535466317640385\n",
      "Stats\n",
      "iteration 5, likelihood: -171965.83882373004, change: 15.539119018940255\n"
     ]
    }
   ],
   "source": [
    "from src.hmm import check_converged\n",
    "from src.hmm3 import estimate_parameters_via_em\n",
    "import scipy.stats\n",
    "\n",
    "\n",
    "initial_conditions = true_initial_conditions.copy()\n",
    "diag_prob = np.array([0.98, 0.98, 0.98])\n",
    "transition_matrix = ((1 - diag_prob) / 2)[:, np.newaxis] * np.ones((num_states, num_states))\n",
    "transition_matrix[np.diag_indices(num_states)] = diag_prob\n",
    "initial_rates = true_rates.copy()\n",
    "log_likelihood = scipy.stats.poisson.logpmf(observations, initial_rates[np.newaxis])\n",
    "\n",
    "marginal_log_likelihoods = []\n",
    "n_iter = 0\n",
    "converged = False\n",
    "max_iter = 50\n",
    "tolerance=1e-4\n",
    "\n",
    "while not converged and (n_iter < max_iter):\n",
    "    (\n",
    "        initial_conditions,\n",
    "        transition_matrix,\n",
    "        acausal_posterior,\n",
    "        marginal_log_likelihood,\n",
    "    ) = estimate_parameters_via_em(initial_conditions, log_likelihood, transition_matrix)\n",
    "    \n",
    "    rates = np.array(\n",
    "        [np.average(observations.squeeze(), weights=acausal_posterior[:, state])\n",
    "         for state in range(num_states)])\n",
    "    log_likelihood = scipy.stats.poisson.logpmf(observations, rates[np.newaxis])\n",
    "\n",
    "    # Stats\n",
    "    print(\"Stats\")\n",
    "    n_iter += 1\n",
    "\n",
    "    marginal_log_likelihoods.append(marginal_log_likelihood)\n",
    "    if n_iter > 1:\n",
    "        log_likelihood_change = (\n",
    "            marginal_log_likelihoods[-1] - marginal_log_likelihoods[-2]\n",
    "        )\n",
    "        converged, _ = check_converged(\n",
    "            marginal_log_likelihoods[-1], marginal_log_likelihoods[-2], tolerance\n",
    "        )\n",
    "\n",
    "        print(\n",
    "            f\"iteration {n_iter}, \"\n",
    "            f\"likelihood: {marginal_log_likelihoods[-1]}, \"\n",
    "            f\"change: {log_likelihood_change}\"\n",
    "        )\n",
    "    else:\n",
    "        print(f\"iteration {n_iter}, \" f\"likelihood: {marginal_log_likelihoods[-1]}\")\n"
   ]
  },
  {
   "cell_type": "code",
   "execution_count": 359,
   "metadata": {},
   "outputs": [
    {
     "data": {
      "text/plain": [
       "array([0.98907156, 0.97725369, 0.96060461])"
      ]
     },
     "execution_count": 359,
     "metadata": {},
     "output_type": "execute_result"
    }
   ],
   "source": [
    "np.diagonal(transition_matrix)"
   ]
  },
  {
   "cell_type": "code",
   "execution_count": 360,
   "metadata": {},
   "outputs": [
    {
     "data": {
      "text/html": [
       "<style>#sk-container-id-12 {color: black;background-color: white;}#sk-container-id-12 pre{padding: 0;}#sk-container-id-12 div.sk-toggleable {background-color: white;}#sk-container-id-12 label.sk-toggleable__label {cursor: pointer;display: block;width: 100%;margin-bottom: 0;padding: 0.3em;box-sizing: border-box;text-align: center;}#sk-container-id-12 label.sk-toggleable__label-arrow:before {content: \"▸\";float: left;margin-right: 0.25em;color: #696969;}#sk-container-id-12 label.sk-toggleable__label-arrow:hover:before {color: black;}#sk-container-id-12 div.sk-estimator:hover label.sk-toggleable__label-arrow:before {color: black;}#sk-container-id-12 div.sk-toggleable__content {max-height: 0;max-width: 0;overflow: hidden;text-align: left;background-color: #f0f8ff;}#sk-container-id-12 div.sk-toggleable__content pre {margin: 0.2em;color: black;border-radius: 0.25em;background-color: #f0f8ff;}#sk-container-id-12 input.sk-toggleable__control:checked~div.sk-toggleable__content {max-height: 200px;max-width: 100%;overflow: auto;}#sk-container-id-12 input.sk-toggleable__control:checked~label.sk-toggleable__label-arrow:before {content: \"▾\";}#sk-container-id-12 div.sk-estimator input.sk-toggleable__control:checked~label.sk-toggleable__label {background-color: #d4ebff;}#sk-container-id-12 div.sk-label input.sk-toggleable__control:checked~label.sk-toggleable__label {background-color: #d4ebff;}#sk-container-id-12 input.sk-hidden--visually {border: 0;clip: rect(1px 1px 1px 1px);clip: rect(1px, 1px, 1px, 1px);height: 1px;margin: -1px;overflow: hidden;padding: 0;position: absolute;width: 1px;}#sk-container-id-12 div.sk-estimator {font-family: monospace;background-color: #f0f8ff;border: 1px dotted black;border-radius: 0.25em;box-sizing: border-box;margin-bottom: 0.5em;}#sk-container-id-12 div.sk-estimator:hover {background-color: #d4ebff;}#sk-container-id-12 div.sk-parallel-item::after {content: \"\";width: 100%;border-bottom: 1px solid gray;flex-grow: 1;}#sk-container-id-12 div.sk-label:hover label.sk-toggleable__label {background-color: #d4ebff;}#sk-container-id-12 div.sk-serial::before {content: \"\";position: absolute;border-left: 1px solid gray;box-sizing: border-box;top: 0;bottom: 0;left: 50%;z-index: 0;}#sk-container-id-12 div.sk-serial {display: flex;flex-direction: column;align-items: center;background-color: white;padding-right: 0.2em;padding-left: 0.2em;position: relative;}#sk-container-id-12 div.sk-item {position: relative;z-index: 1;}#sk-container-id-12 div.sk-parallel {display: flex;align-items: stretch;justify-content: center;background-color: white;position: relative;}#sk-container-id-12 div.sk-item::before, #sk-container-id-12 div.sk-parallel-item::before {content: \"\";position: absolute;border-left: 1px solid gray;box-sizing: border-box;top: 0;bottom: 0;left: 50%;z-index: -1;}#sk-container-id-12 div.sk-parallel-item {display: flex;flex-direction: column;z-index: 1;position: relative;background-color: white;}#sk-container-id-12 div.sk-parallel-item:first-child::after {align-self: flex-end;width: 50%;}#sk-container-id-12 div.sk-parallel-item:last-child::after {align-self: flex-start;width: 50%;}#sk-container-id-12 div.sk-parallel-item:only-child::after {width: 0;}#sk-container-id-12 div.sk-dashed-wrapped {border: 1px dashed gray;margin: 0 0.4em 0.5em 0.4em;box-sizing: border-box;padding-bottom: 0.4em;background-color: white;}#sk-container-id-12 div.sk-label label {font-family: monospace;font-weight: bold;display: inline-block;line-height: 1.2em;}#sk-container-id-12 div.sk-label-container {text-align: center;}#sk-container-id-12 div.sk-container {/* jupyter's `normalize.less` sets `[hidden] { display: none; }` but bootstrap.min.css set `[hidden] { display: none !important; }` so we also need the `!important` here to be able to override the default hidden behavior on the sphinx rendered scikit-learn.org. See: https://github.com/scikit-learn/scikit-learn/issues/21755 */display: inline-block !important;position: relative;}#sk-container-id-12 div.sk-text-repr-fallback {display: none;}</style><div id=\"sk-container-id-12\" class=\"sk-top-container\"><div class=\"sk-text-repr-fallback\"><pre>PoissonHMM(init_params=&#x27;&#x27;, n_components=3,\n",
       "           random_state=RandomState(MT19937) at 0x17EAB6F40)</pre><b>In a Jupyter environment, please rerun this cell to show the HTML representation or trust the notebook. <br />On GitHub, the HTML representation is unable to render, please try loading this page with nbviewer.org.</b></div><div class=\"sk-container\" hidden><div class=\"sk-item\"><div class=\"sk-estimator sk-toggleable\"><input class=\"sk-toggleable__control sk-hidden--visually\" id=\"sk-estimator-id-14\" type=\"checkbox\" checked><label for=\"sk-estimator-id-14\" class=\"sk-toggleable__label sk-toggleable__label-arrow\">PoissonHMM</label><div class=\"sk-toggleable__content\"><pre>PoissonHMM(init_params=&#x27;&#x27;, n_components=3,\n",
       "           random_state=RandomState(MT19937) at 0x17EAB6F40)</pre></div></div></div></div></div>"
      ],
      "text/plain": [
       "PoissonHMM(init_params='', n_components=3,\n",
       "           random_state=RandomState(MT19937) at 0x17EAB6F40)"
      ]
     },
     "execution_count": 360,
     "metadata": {},
     "output_type": "execute_result"
    }
   ],
   "source": [
    "initial_conditions = true_initial_conditions.copy()\n",
    "diag_prob = np.array([0.98, 0.98, 0.98])\n",
    "transition_matrix = ((1 - diag_prob) / 2)[:, np.newaxis] * np.ones((num_states, num_states))\n",
    "transition_matrix[np.diag_indices(num_states)] = diag_prob\n",
    "initial_rates = true_rates.copy()\n",
    "\n",
    "model2 = hmm.PoissonHMM(n_components=num_states, random_state=42, init_params=\"\", params=\"stl\")\n",
    "model2.startprob_ = initial_conditions\n",
    "model2.transmat_ = transition_matrix\n",
    "model2.lambdas_ = initial_rates.reshape(-1, 1)\n",
    "\n",
    "model2.fit(observations)"
   ]
  },
  {
   "cell_type": "code",
   "execution_count": 361,
   "metadata": {},
   "outputs": [
    {
     "data": {
      "text/plain": [
       "array([0.98916073, 0.97722909, 0.96002886])"
      ]
     },
     "execution_count": 361,
     "metadata": {},
     "output_type": "execute_result"
    }
   ],
   "source": [
    "np.diagonal(model2.transmat_)"
   ]
  },
  {
   "cell_type": "code",
   "execution_count": 362,
   "metadata": {},
   "outputs": [
    {
     "data": {
      "text/plain": [
       "deque([-178682.27900102452,\n",
       "       -172068.2799162289,\n",
       "       -172009.9134081912,\n",
       "       -171981.3779422958,\n",
       "       -171965.83882000495,\n",
       "       -171956.69376626197,\n",
       "       -171950.9816733937,\n",
       "       -171947.23761563213,\n",
       "       -171944.68041641908,\n",
       "       -171942.8681272074])"
      ]
     },
     "execution_count": 362,
     "metadata": {},
     "output_type": "execute_result"
    }
   ],
   "source": [
    "model2.monitor_.history"
   ]
  },
  {
   "cell_type": "code",
   "execution_count": 436,
   "metadata": {},
   "outputs": [
    {
     "data": {
      "text/plain": [
       "(array([[0., 0., 0.],\n",
       "        [0., 0., 0.]]),\n",
       " array([0, 1, 3]))"
      ]
     },
     "execution_count": 436,
     "metadata": {},
     "output_type": "execute_result"
    }
   ],
   "source": [
    "# coefficients (n_coefficients, n_state * (n_state - 1)), each column corresponds to the off-digonal elements of the transition matrix\n",
    "# estimate each row of the transition matrix independently (base case is self transition)\n",
    "\n",
    "n_coefficients = 2\n",
    "n_states = 4\n",
    "transition_coefficients = np.zeros(((n_coefficients, n_states * (n_states - 1))))\n",
    "\n",
    "# all off diagonal indicies\n",
    "transition_coefficient_index = np.stack(np.unravel_index(np.arange(n_states * n_states), (n_states, n_states)), axis=1)\n",
    "is_diagonal = transition_coefficient_index[:, 0] == transition_coefficient_index[:, 1]\n",
    "transition_coefficient_index = transition_coefficient_index[~is_diagonal]\n",
    "\n",
    "\n",
    "from_state = 2\n",
    "is_from_state = transition_coefficient_index[:, 0] == from_state\n",
    "transition_coefficient_linear_index = np.arange(transition_coefficients.shape[1])\n",
    "from_state_index = transition_coefficient_linear_index[is_from_state]\n",
    "transition_coefficients[:, from_state_index], transition_coefficient_index[is_from_state, 1]\n"
   ]
  },
  {
   "cell_type": "code",
   "execution_count": 441,
   "metadata": {},
   "outputs": [
    {
     "data": {
      "text/plain": [
       "array([False,  True, False, False, False, False, False, False, False,\n",
       "       False, False, False])"
      ]
     },
     "execution_count": 441,
     "metadata": {},
     "output_type": "execute_result"
    }
   ],
   "source": [
    "from_state = 0\n",
    "to_state = 2\n"
   ]
  },
  {
   "cell_type": "code",
   "execution_count": 442,
   "metadata": {},
   "outputs": [
    {
     "ename": "NameError",
     "evalue": "name 'expected_joint_prob' is not defined",
     "output_type": "error",
     "traceback": [
      "\u001b[0;31m---------------------------------------------------------------------------\u001b[0m",
      "\u001b[0;31mNameError\u001b[0m                                 Traceback (most recent call last)",
      "\u001b[1;32m/Users/edeno/Documents/GitHub/test_hmm/notebooks/non_stationary_transition.ipynb Cell 24\u001b[0m in \u001b[0;36m<cell line: 7>\u001b[0;34m()\u001b[0m\n\u001b[1;32m      <a href='vscode-notebook-cell:/Users/edeno/Documents/GitHub/test_hmm/notebooks/non_stationary_transition.ipynb#Y125sZmlsZQ%3D%3D?line=7'>8</a>\u001b[0m is_state \u001b[39m=\u001b[39m np\u001b[39m.\u001b[39mlogical_and(transition_coefficient_index[:, \u001b[39m0\u001b[39m] \u001b[39m==\u001b[39m from_state,\n\u001b[1;32m      <a href='vscode-notebook-cell:/Users/edeno/Documents/GitHub/test_hmm/notebooks/non_stationary_transition.ipynb#Y125sZmlsZQ%3D%3D?line=8'>9</a>\u001b[0m                           transition_coefficient_index[:, \u001b[39m1\u001b[39m] \u001b[39m==\u001b[39m to_state)\n\u001b[1;32m     <a href='vscode-notebook-cell:/Users/edeno/Documents/GitHub/test_hmm/notebooks/non_stationary_transition.ipynb#Y125sZmlsZQ%3D%3D?line=9'>10</a>\u001b[0m \u001b[39mif\u001b[39;00m from_state \u001b[39m!=\u001b[39m to_state:\n\u001b[0;32m---> <a href='vscode-notebook-cell:/Users/edeno/Documents/GitHub/test_hmm/notebooks/non_stationary_transition.ipynb#Y125sZmlsZQ%3D%3D?line=11'>12</a>\u001b[0m     expected_joint_prob[from_state, to_state] \u001b[39m*\u001b[39m np\u001b[39m.\u001b[39mlog(transition_coefficients[:, is_state]\u001b[39m.\u001b[39mT \u001b[39m@\u001b[39m transition_design_matrix)\n\u001b[1;32m     <a href='vscode-notebook-cell:/Users/edeno/Documents/GitHub/test_hmm/notebooks/non_stationary_transition.ipynb#Y125sZmlsZQ%3D%3D?line=12'>13</a>\u001b[0m \u001b[39melse\u001b[39;00m:\n\u001b[1;32m     <a href='vscode-notebook-cell:/Users/edeno/Documents/GitHub/test_hmm/notebooks/non_stationary_transition.ipynb#Y125sZmlsZQ%3D%3D?line=13'>14</a>\u001b[0m     \u001b[39mpass\u001b[39;00m\n",
      "\u001b[0;31mNameError\u001b[0m: name 'expected_joint_prob' is not defined"
     ]
    }
   ],
   "source": [
    "from_state = 2\n",
    "\n",
    "is_from_state = transition_coefficient_index[:, 0] == from_state\n",
    "transition_coefficient_linear_index = np.arange(transition_coefficients.shape[1])\n",
    "from_state_index = transition_coefficient_linear_index[is_from_state]\n",
    "blah = 0.0\n",
    "expected_joint_prob = np.zeros((n_time, n_states, n_states))\n",
    "\n",
    "\n",
    "np.exp(transition_design_matrix @ transition_coefficients[:, is_state])\n",
    "\n",
    "for to_state in range(n_states):\n",
    "    is_state = np.logical_and(transition_coefficient_index[:, 0] == from_state,\n",
    "                              transition_coefficient_index[:, 1] == to_state)\n",
    "    if from_state != to_state:\n",
    "        \n",
    "        blah += xlogy(expected_joint_prob[:, from_state, to_state],\n",
    "                      transition_design_matrix @ transition_coefficients[:, is_state])\n",
    "    else:\n",
    "        blah += xlog1py(expected_joint_prob[:, from_state, to_state],\n",
    "                        norm)"
   ]
  },
  {
   "cell_type": "code",
   "execution_count": 444,
   "metadata": {},
   "outputs": [
    {
     "data": {
      "text/plain": [
       "(1, 2)"
      ]
     },
     "execution_count": 444,
     "metadata": {},
     "output_type": "execute_result"
    }
   ],
   "source": [
    "transition_coefficients[:, is_state].T.shape"
   ]
  },
  {
   "cell_type": "code",
   "execution_count": 468,
   "metadata": {},
   "outputs": [
    {
     "data": {
      "text/plain": [
       "array([0., 0., 0., 0., 0., 0., 0., 0., 0., 0., 0., 0., 0., 0., 0., 0., 0.,\n",
       "       0., 0., 0.])"
      ]
     },
     "execution_count": 468,
     "metadata": {},
     "output_type": "execute_result"
    }
   ],
   "source": [
    "n_time = 20\n",
    "\n",
    "transition_design_matrix = np.zeros((n_time, n_coefficients))\n",
    "\n",
    "transition_design_matrix @ transition_coefficients[:, is_state].shape"
   ]
  },
  {
   "cell_type": "code",
   "execution_count": 469,
   "metadata": {},
   "outputs": [
    {
     "data": {
      "text/plain": [
       "(20, 12)"
      ]
     },
     "execution_count": 469,
     "metadata": {},
     "output_type": "execute_result"
    }
   ],
   "source": [
    "(transition_design_matrix @ transition_coefficients).shape"
   ]
  },
  {
   "cell_type": "code",
   "execution_count": 476,
   "metadata": {},
   "outputs": [
    {
     "data": {
      "text/plain": [
       "array([[[1., 0., 0., 0.],\n",
       "        [0., 1., 0., 0.],\n",
       "        [0., 0., 1., 0.],\n",
       "        [0., 0., 0., 1.]],\n",
       "\n",
       "       [[1., 0., 0., 0.],\n",
       "        [0., 1., 0., 0.],\n",
       "        [0., 0., 1., 0.],\n",
       "        [0., 0., 0., 1.]],\n",
       "\n",
       "       [[1., 0., 0., 0.],\n",
       "        [0., 1., 0., 0.],\n",
       "        [0., 0., 1., 0.],\n",
       "        [0., 0., 0., 1.]],\n",
       "\n",
       "       [[1., 0., 0., 0.],\n",
       "        [0., 1., 0., 0.],\n",
       "        [0., 0., 1., 0.],\n",
       "        [0., 0., 0., 1.]],\n",
       "\n",
       "       [[1., 0., 0., 0.],\n",
       "        [0., 1., 0., 0.],\n",
       "        [0., 0., 1., 0.],\n",
       "        [0., 0., 0., 1.]],\n",
       "\n",
       "       [[1., 0., 0., 0.],\n",
       "        [0., 1., 0., 0.],\n",
       "        [0., 0., 1., 0.],\n",
       "        [0., 0., 0., 1.]],\n",
       "\n",
       "       [[1., 0., 0., 0.],\n",
       "        [0., 1., 0., 0.],\n",
       "        [0., 0., 1., 0.],\n",
       "        [0., 0., 0., 1.]],\n",
       "\n",
       "       [[1., 0., 0., 0.],\n",
       "        [0., 1., 0., 0.],\n",
       "        [0., 0., 1., 0.],\n",
       "        [0., 0., 0., 1.]],\n",
       "\n",
       "       [[1., 0., 0., 0.],\n",
       "        [0., 1., 0., 0.],\n",
       "        [0., 0., 1., 0.],\n",
       "        [0., 0., 0., 1.]],\n",
       "\n",
       "       [[1., 0., 0., 0.],\n",
       "        [0., 1., 0., 0.],\n",
       "        [0., 0., 1., 0.],\n",
       "        [0., 0., 0., 1.]],\n",
       "\n",
       "       [[1., 0., 0., 0.],\n",
       "        [0., 1., 0., 0.],\n",
       "        [0., 0., 1., 0.],\n",
       "        [0., 0., 0., 1.]],\n",
       "\n",
       "       [[1., 0., 0., 0.],\n",
       "        [0., 1., 0., 0.],\n",
       "        [0., 0., 1., 0.],\n",
       "        [0., 0., 0., 1.]],\n",
       "\n",
       "       [[1., 0., 0., 0.],\n",
       "        [0., 1., 0., 0.],\n",
       "        [0., 0., 1., 0.],\n",
       "        [0., 0., 0., 1.]],\n",
       "\n",
       "       [[1., 0., 0., 0.],\n",
       "        [0., 1., 0., 0.],\n",
       "        [0., 0., 1., 0.],\n",
       "        [0., 0., 0., 1.]],\n",
       "\n",
       "       [[1., 0., 0., 0.],\n",
       "        [0., 1., 0., 0.],\n",
       "        [0., 0., 1., 0.],\n",
       "        [0., 0., 0., 1.]],\n",
       "\n",
       "       [[1., 0., 0., 0.],\n",
       "        [0., 1., 0., 0.],\n",
       "        [0., 0., 1., 0.],\n",
       "        [0., 0., 0., 1.]],\n",
       "\n",
       "       [[1., 0., 0., 0.],\n",
       "        [0., 1., 0., 0.],\n",
       "        [0., 0., 1., 0.],\n",
       "        [0., 0., 0., 1.]],\n",
       "\n",
       "       [[1., 0., 0., 0.],\n",
       "        [0., 1., 0., 0.],\n",
       "        [0., 0., 1., 0.],\n",
       "        [0., 0., 0., 1.]],\n",
       "\n",
       "       [[1., 0., 0., 0.],\n",
       "        [0., 1., 0., 0.],\n",
       "        [0., 0., 1., 0.],\n",
       "        [0., 0., 0., 1.]],\n",
       "\n",
       "       [[1., 0., 0., 0.],\n",
       "        [0., 1., 0., 0.],\n",
       "        [0., 0., 1., 0.],\n",
       "        [0., 0., 0., 1.]]])"
      ]
     },
     "execution_count": 476,
     "metadata": {},
     "output_type": "execute_result"
    }
   ],
   "source": [
    "transition_matrix = np.ones((n_time, n_states, n_states))\n",
    "\n",
    "dt = 1\n",
    "\n",
    "transition_matrix[:, transition_coefficient_index[:, 0], transition_coefficient_index[:, 1]] = (transition_design_matrix @ transition_coefficients) * dt\n",
    "transition_matrix"
   ]
  },
  {
   "cell_type": "code",
   "execution_count": 472,
   "metadata": {},
   "outputs": [
    {
     "data": {
      "text/plain": [
       "array([0, 0, 0, 1, 1, 1, 2, 2, 2, 3, 3, 3])"
      ]
     },
     "execution_count": 472,
     "metadata": {},
     "output_type": "execute_result"
    }
   ],
   "source": []
  },
  {
   "cell_type": "code",
   "execution_count": null,
   "metadata": {},
   "outputs": [],
   "source": [
    "from scipy.special import xlogy, xlog1py\n",
    "\n",
    "\n",
    "def transition_negative_log_likelihood(\n",
    "    transition_coefficients,\n",
    "    transition_design_matrix,\n",
    "    joint_prob,\n",
    "    transition_coefficient_index,\n",
    "    acausal_posterior,\n",
    "    dt=1,\n",
    "):\n",
    "    \"\"\"Negative log likelihood of transition matrix.\n",
    "\n",
    "    Parameters\n",
    "    ----------\n",
    "    transition_coefficients : np.ndarray, shape (n_cofficients, n_states * (n_states - 1))\n",
    "        The coefficients of the linear model for the transition rate.\n",
    "    transition_design_matrix : np.ndarray, shape (n_time - 1, n_coefficients)\n",
    "        The design matrix representing the linear model for the transition rate.\n",
    "    joint_prob : np.ndarray, shape (n_time - 1, n_states, n_states)\n",
    "        The joint probability of the current and next state.\n",
    "    acausal_posterior : np.ndarray, shape (n_time, n_states)\n",
    "        The acausal posterior probability of the current state.\n",
    "    dt : int, optional\n",
    "        Time step, by default 1\n",
    "\n",
    "    Returns\n",
    "    -------\n",
    "    negative_log_likelihood : float\n",
    "        The negative log likelihood of the transition matrix.\n",
    "    \"\"\"\n",
    "    transition_rate = np.zeros_like(joint_prob)\n",
    "    transition_rate[\n",
    "        :, transition_coefficient_index[:, 0], transition_coefficient_index[:, 1]\n",
    "    ] = (np.exp(transition_design_matrix @ transition_coefficients) * dt)\n",
    "\n",
    "    return (\n",
    "        -1.0\n",
    "        * (\n",
    "            np.sum(xlogy(joint_prob, transition_rate), axis=-1)\n",
    "            - np.diagonal(xlogy(joint_prob, transition_rate), axis1=1, axis2=2)\n",
    "            - xlog1py(\n",
    "                acausal_posterior[:-1],\n",
    "                np.sum(transition_rate, axis=-1)\n",
    "                - np.diagonal(transition_rate, axis1=1, axis2=2),\n",
    "            )\n",
    "        ).sum()\n",
    "    )\n"
   ]
  },
  {
   "cell_type": "code",
   "execution_count": null,
   "metadata": {},
   "outputs": [],
   "source": [
    "from scipy.special import xlogy, xlog1py\n",
    "\n",
    "\n",
    "def transition_negative_log_likelihood(\n",
    "    transition_coefficients,\n",
    "    transition_design_matrix,\n",
    "    joint_prob,\n",
    "    transition_coefficient_index,\n",
    "    acausal_posterior,\n",
    "    dt=1,\n",
    "):\n",
    "    \"\"\"Negative log likelihood of transition matrix.\n",
    "\n",
    "    Parameters\n",
    "    ----------\n",
    "    transition_coefficients : np.ndarray, shape (n_coefficients, n_states - 1)\n",
    "        The row coefficients of the linear model for the transition rate.\n",
    "    transition_design_matrix : np.ndarray, shape (n_time - 1, n_coefficients)\n",
    "        The design matrix representing the linear model for the transition rate.\n",
    "    joint_prob : np.ndarray, shape (n_time - 1, n_to_states)\n",
    "        The joint probability of the current and next state.\n",
    "    acausal_posterior : np.ndarray, shape (n_time, n_states)\n",
    "        The acausal posterior probability of the current state.\n",
    "    dt : int, optional\n",
    "        Time step, by default 1\n",
    "\n",
    "    Returns\n",
    "    -------\n",
    "    negative_log_likelihood : float\n",
    "        The negative log likelihood of the transition matrix.\n",
    "    \"\"\"\n",
    "    transition_rate = np.zeros_like(joint_prob)\n",
    "    transition_rate[\n",
    "        :, transition_coefficient_index[:, 0], transition_coefficient_index[:, 1]\n",
    "    ] = (np.exp(transition_design_matrix @ transition_coefficients) * dt)\n",
    "\n",
    "    return (\n",
    "        -1.0\n",
    "        * (\n",
    "            np.sum(xlogy(joint_prob, transition_rate), axis=-1)\n",
    "            - np.diagonal(xlogy(joint_prob, transition_rate), axis1=1, axis2=2)\n",
    "            - xlog1py(\n",
    "                acausal_posterior[:-1],\n",
    "                np.sum(transition_rate, axis=-1)\n",
    "                - np.diagonal(transition_rate, axis1=1, axis2=2),\n",
    "            )\n",
    "        ).sum()\n",
    "    )\n"
   ]
  },
  {
   "cell_type": "code",
   "execution_count": null,
   "metadata": {},
   "outputs": [],
   "source": []
  }
 ],
 "metadata": {
  "kernelspec": {
   "display_name": "test_hmm",
   "language": "python",
   "name": "python3"
  },
  "language_info": {
   "codemirror_mode": {
    "name": "ipython",
    "version": 3
   },
   "file_extension": ".py",
   "mimetype": "text/x-python",
   "name": "python",
   "nbconvert_exporter": "python",
   "pygments_lexer": "ipython3",
   "version": "3.10.8"
  },
  "orig_nbformat": 4,
  "vscode": {
   "interpreter": {
    "hash": "7430815ce57fe787854a3531a1da753d6c88b1e899f537a047c4da845fb9b2e1"
   }
  }
 },
 "nbformat": 4,
 "nbformat_minor": 2
}
