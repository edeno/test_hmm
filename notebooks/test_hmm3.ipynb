{
 "cells": [
  {
   "cell_type": "code",
   "execution_count": 1,
   "metadata": {},
   "outputs": [],
   "source": [
    "%reload_ext autoreload\n",
    "%autoreload 2"
   ]
  },
  {
   "cell_type": "code",
   "execution_count": 5,
   "metadata": {},
   "outputs": [],
   "source": [
    "from src.hmm import get_likelihood\n",
    "from src.test_hmm import generate_data\n",
    "import numpy as np\n",
    "(\n",
    "    initial_conditions,\n",
    "    transition_matrix,\n",
    "    emission_matrix,\n",
    "    _,\n",
    "    observations_ind,\n",
    ") = generate_data()\n",
    "\n",
    "likelihood = get_likelihood(emission_matrix, observations_ind)\n",
    "log_likelihood = np.log(likelihood)"
   ]
  },
  {
   "cell_type": "code",
   "execution_count": 3,
   "metadata": {},
   "outputs": [
    {
     "name": "stdout",
     "output_type": "stream",
     "text": [
      "iteration 1, likelihood: -5.52629188048878\n",
      "iteration 2, likelihood: -5.737131752798916, change: -0.21083987231013612\n",
      "iteration 3, likelihood: -5.765385740113668, change: -0.028253987314752038\n",
      "iteration 4, likelihood: -5.769207118065249, change: -0.0038213779515805513\n",
      "iteration 5, likelihood: -5.769725765623484, change: -0.0005186475582350525\n"
     ]
    }
   ],
   "source": [
    "from src.hmm3 import forward, smoother, estimate_transition_matrix\n",
    "from src.hmm import check_converged\n",
    "\n",
    "tolerance = 1e-4\n",
    "max_iter = 10\n",
    "\n",
    "marginal_log_likelihoods = []\n",
    "n_iter = 0\n",
    "converged = False\n",
    "\n",
    "while not converged and (n_iter < max_iter):\n",
    "    # Expectation\n",
    "    causal_posterior, predictive_distribution, marginal_log_likelihood = forward(\n",
    "        initial_conditions, log_likelihood, transition_matrix\n",
    "    )\n",
    "    acausal_posterior = smoother(\n",
    "        causal_posterior, predictive_distribution, transition_matrix\n",
    "    )\n",
    "\n",
    "    # Maximization\n",
    "    initial_conditions = acausal_posterior[0]\n",
    "    # transition_matrix = estimate_transition_matrix(\n",
    "    #     causal_posterior,\n",
    "    #     predictive_distribution,\n",
    "    #     transition_matrix,\n",
    "    #     acausal_posterior,\n",
    "    # )\n",
    "\n",
    "    # Stats\n",
    "    n_iter += 1\n",
    "\n",
    "    marginal_log_likelihoods.append(marginal_log_likelihood)\n",
    "    if n_iter > 1:\n",
    "        log_likelihood_change = marginal_log_likelihoods[-1] - marginal_log_likelihoods[-2]\n",
    "        converged, increasing = check_converged(\n",
    "            marginal_log_likelihoods[-1], marginal_log_likelihoods[-2], tolerance\n",
    "        )\n",
    "\n",
    "        print(\n",
    "            f\"iteration {n_iter}, \"\n",
    "            f\"likelihood: {marginal_log_likelihoods[-1]}, \"\n",
    "            f\"change: {log_likelihood_change}\"\n",
    "        )\n",
    "    else:\n",
    "        print(f\"iteration {n_iter}, \" f\"likelihood: {marginal_log_likelihoods[-1]}\")"
   ]
  },
  {
   "cell_type": "code",
   "execution_count": 6,
   "metadata": {},
   "outputs": [
    {
     "data": {
      "text/plain": [
       "[<matplotlib.lines.Line2D at 0x7f668def45b0>,\n",
       " <matplotlib.lines.Line2D at 0x7f668def4610>]"
      ]
     },
     "execution_count": 6,
     "metadata": {},
     "output_type": "execute_result"
    },
    {
     "data": {
      "image/png": "[encoded data removed]",
      "text/plain": [
       "<Figure size 640x480 with 1 Axes>"
      ]
     },
     "metadata": {},
     "output_type": "display_data"
    }
   ],
   "source": [
    "import matplotlib.pyplot as plt\n",
    "\n",
    "# Expectation\n",
    "causal_posterior, predictive_distribution, marginal_log_likelihood = forward(\n",
    "    initial_conditions, log_likelihood, transition_matrix\n",
    ")\n",
    "acausal_posterior = smoother(\n",
    "    causal_posterior, predictive_distribution, transition_matrix\n",
    ")\n",
    "plt.plot(acausal_posterior)"
   ]
  },
  {
   "cell_type": "code",
   "execution_count": null,
   "metadata": {},
   "outputs": [],
   "source": []
  }
 ],
 "metadata": {
  "kernelspec": {
   "display_name": "test_hmm",
   "language": "python",
   "name": "python3"
  },
  "language_info": {
   "codemirror_mode": {
    "name": "ipython",
    "version": 3
   },
   "file_extension": ".py",
   "mimetype": "text/x-python",
   "name": "python",
   "nbconvert_exporter": "python",
   "pygments_lexer": "ipython3",
   "version": "3.10.8"
  },
  "orig_nbformat": 4,
  "vscode": {
   "interpreter": {
    "hash": "c6c357aac43d0ff46917fb823d0877c209998debada17a7fc46c62b2ec31f1f3"
   }
  }
 },
 "nbformat": 4,
 "nbformat_minor": 2
}
