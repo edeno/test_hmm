{
 "cells": [
  {
   "cell_type": "code",
   "execution_count": 1,
   "metadata": {},
   "outputs": [
    {
     "name": "stderr",
     "output_type": "stream",
     "text": [
      "Cupy is not installed or GPU is not detected. Ignore this message if not using GPU\n",
      "/home/edeno/miniconda3/envs/test_hmm/lib/python3.10/site-packages/replay_trajectory_classification/likelihoods/multiunit_likelihood.py:12: TqdmExperimentalWarning: Using `tqdm.autonotebook.tqdm` in notebook mode. Use `tqdm.tqdm` instead to force console mode (e.g. in jupyter console)\n",
      "  from tqdm.autonotebook import tqdm\n"
     ]
    }
   ],
   "source": [
    "from src.test_non_local_model import load_data\n",
    "\n",
    "is_ripple, spikes, position, env, time = load_data(work_computer=True)\n"
   ]
  },
  {
   "cell_type": "code",
   "execution_count": 2,
   "metadata": {},
   "outputs": [
    {
     "data": {
      "image/png": "[encoded data removed]",
      "text/plain": [
       "<Figure size 500x500 with 1 Axes>"
      ]
     },
     "metadata": {},
     "output_type": "display_data"
    }
   ],
   "source": [
    "from src.test_non_local_model import setup_nonlocal_hmm_model\n",
    "\n",
    "(\n",
    "    design_matrix_hmm,\n",
    "    predict_matrix_hmm,\n",
    "    discrete_state_transitions_hmm,\n",
    "    zero_rates_hmm,\n",
    "    is_training_hmm,\n",
    "    state_names_hmm,\n",
    ") = setup_nonlocal_hmm_model(is_ripple, spikes, position, env)\n"
   ]
  },
  {
   "cell_type": "code",
   "execution_count": 3,
   "metadata": {},
   "outputs": [
    {
     "name": "stdout",
     "output_type": "stream",
     "text": [
      "Likelihoods\n"
     ]
    },
    {
     "data": {
      "application/vnd.jupyter.widget-view+json": {
       "model_id": "6f935214dfb5467083ffd683a2a90e10",
       "version_major": 2,
       "version_minor": 0
      },
      "text/plain": [
       "  0%|          | 0/104 [00:00<?, ?it/s]"
      ]
     },
     "metadata": {},
     "output_type": "display_data"
    }
   ],
   "source": [
    "from src.test_non_local_model import fit_hmm_model\n",
    "\n",
    "(\n",
    "    predicted_state_hmm,\n",
    "    acausal_posterior_hmm,\n",
    "    causal_posterior_hmm,\n",
    "    marginal_log_likelihoods_hmm,\n",
    "    non_local_rates_hmm,\n",
    ") = fit_hmm_model(\n",
    "    spikes,\n",
    "    design_matrix_hmm,\n",
    "    predict_matrix_hmm,\n",
    "    discrete_state_transitions_hmm,\n",
    "    zero_rates_hmm,\n",
    "    is_training_hmm,\n",
    ")\n"
   ]
  },
  {
   "cell_type": "code",
   "execution_count": null,
   "metadata": {},
   "outputs": [],
   "source": [
    "from src.test_non_local_model import setup_nonlocal_switching_model\n",
    "\n",
    "(\n",
    "    design_matrix_switching,\n",
    "    predict_matrix_switching,\n",
    "    discrete_state_transitions_switching,\n",
    "    continuous_state_transitions_switching,\n",
    "    state_ind_switching,\n",
    "    zero_rates_switching,\n",
    "    is_training_switching,\n",
    "    state_names_switching,\n",
    ") = setup_nonlocal_switching_model(\n",
    "    is_ripple,\n",
    "    spikes,\n",
    "    position,\n",
    "    env,\n",
    ")\n"
   ]
  },
  {
   "cell_type": "code",
   "execution_count": null,
   "metadata": {},
   "outputs": [],
   "source": [
    "from src.test_non_local_model import fit_switching_model\n",
    "\n",
    "(\n",
    "    predicted_state_switching,\n",
    "    acausal_posterior_switching,\n",
    "    acausal_state_probabilities_switching,\n",
    "    causal_posterior_switching,\n",
    "    marginal_log_likelihoods_switching,\n",
    "    coefficients_iter,\n",
    "    local_rates_iter,\n",
    "    non_local_rates_iter,\n",
    "    is_training_iter,\n",
    "    acausal_posterior_iter,\n",
    ") = fit_switching_model(\n",
    "    position,\n",
    "    spikes,\n",
    "    design_matrix_switching,\n",
    "    predict_matrix_switching,\n",
    "    discrete_state_transitions_switching,\n",
    "    continuous_state_transitions_switching,\n",
    "    state_ind_switching,\n",
    "    zero_rates_switching,\n",
    "    is_training_switching,\n",
    ")\n"
   ]
  },
  {
   "cell_type": "code",
   "execution_count": null,
   "metadata": {},
   "outputs": [],
   "source": []
  }
 ],
 "metadata": {
  "kernelspec": {
   "display_name": "test_hmm",
   "language": "python",
   "name": "python3"
  },
  "language_info": {
   "codemirror_mode": {
    "name": "ipython",
    "version": 3
   },
   "file_extension": ".py",
   "mimetype": "text/x-python",
   "name": "python",
   "nbconvert_exporter": "python",
   "pygments_lexer": "ipython3",
   "version": "3.10.8"
  },
  "orig_nbformat": 4,
  "vscode": {
   "interpreter": {
    "hash": "c6c357aac43d0ff46917fb823d0877c209998debada17a7fc46c62b2ec31f1f3"
   }
  }
 },
 "nbformat": 4,
 "nbformat_minor": 2
}
