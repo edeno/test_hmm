{
 "cells": [
  {
   "cell_type": "markdown",
   "metadata": {},
   "source": [
    "### Variables\n",
    "+ I = discrete state\n",
    "+ O = observation\n",
    "+ t = time\n",
    "### Filter\n",
    "$$\n",
    "Pr(I_{t} \\mid O_{1:t}) \\propto Pr(O_t \\mid I_{t}, O_{1:t-1}) \\sum_{I_{t-1}} Pr(I_{t} \\mid I_{t-1}) Pr(I_{t-1} \\mid O_{1:t-1})\n",
    "$$\n",
    "### Smoother\n",
    "$$\n",
    "Pr(I_{t} \\mid O_{1:T}) = Pr(I_t \\mid O_{1:t}) \\sum_{I_{t+1}} \\frac{Pr(I_{t+1} \\mid I_{t})}{Pr(I_{t+1} \\mid O_{1:t})} Pr(I_{t+1} \\mid O_{1:T})\n",
    "$$"
   ]
  },
  {
   "cell_type": "code",
   "execution_count": null,
   "metadata": {},
   "outputs": [],
   "source": [
    "import numpy as np\n",
    "\n",
    "initial_conditions = np.asarray([0.2, 0.8])\n",
    "transition_matrix = np.asarray([[0.5, 0.5], [0.3, 0.7]])\n",
    "emission_matrix = np.asarray([[0.3, 0.7], [0.8, 0.2]])\n",
    "\n",
    "observations = np.asarray([\"N\", \"N\", \"N\", \"N\", \"N\", \"E\", \"E\", \"N\", \"N\", \"N\"])\n",
    "observations_ind = np.asarray([0 if o == \"N\" else 1 for o in observations])\n"
   ]
  },
  {
   "cell_type": "code",
   "execution_count": null,
   "metadata": {},
   "outputs": [],
   "source": [
    "# initial_conditions = np.asarray([1.0, 0.0, 0.0])\n",
    "# transition_matrix = np.asarray([[0.0, 0.5, 0.5], [0.0, 0.9, 0.1], [0.0, 0.0, 1.0]])\n",
    "# emission_matrix = np.asarray([[0.5, 0.5], [0.9, 0.1], [0.1, 0.9]])\n",
    "# observations = np.asarray([2, 3, 3, 2, 2, 2, 3, 2, 3])\n",
    "# observations_ind = np.asarray([0 if o == 2 else 1 for o in observations])\n"
   ]
  },
  {
   "cell_type": "code",
   "execution_count": null,
   "metadata": {},
   "outputs": [],
   "source": [
    "# initial_conditions = np.asarray([0.5, 0.5])\n",
    "# transition_matrix = np.asarray([[0.7, 0.3], [0.3, 0.7]])\n",
    "# emission_matrix = np.asarray([[0.9, 0.1], [0.2, 0.8]])\n",
    "# observations = np.asarray(\n",
    "#     [\"umbrella\", \"umbrella\", \"no umbrella\", \"umbrella\", \"umbrella\"]\n",
    "# )\n",
    "# observations_ind = np.asarray([0 if o == \"umbrella\" else 1 for o in observations])\n"
   ]
  },
  {
   "cell_type": "code",
   "execution_count": null,
   "metadata": {},
   "outputs": [],
   "source": [
    "from src.hmm import forward, correction_smoothing\n",
    "\n",
    "causal_posterior, data_log_likelihood, scaling = forward(\n",
    "    initial_conditions, observations_ind, emission_matrix, transition_matrix\n",
    ")\n",
    "\n",
    "causal_posterior\n"
   ]
  },
  {
   "cell_type": "code",
   "execution_count": null,
   "metadata": {},
   "outputs": [],
   "source": [
    "acausal_posterior = correction_smoothing(causal_posterior, transition_matrix)\n",
    "acausal_posterior\n"
   ]
  },
  {
   "cell_type": "code",
   "execution_count": null,
   "metadata": {},
   "outputs": [],
   "source": [
    "from src.hmm import parallel_smoothing, get_acausal_posterior_from_parallel_smoothing\n",
    "\n",
    "backward_posterior = parallel_smoothing(\n",
    "    initial_conditions, observations_ind, emission_matrix, transition_matrix, scaling\n",
    ")\n",
    "get_acausal_posterior_from_parallel_smoothing(causal_posterior, backward_posterior)\n"
   ]
  },
  {
   "cell_type": "code",
   "execution_count": null,
   "metadata": {},
   "outputs": [],
   "source": [
    "n_states = len(initial_conditions)\n",
    "n_time = len(observations_ind)\n",
    "\n",
    "likelihood = emission_matrix[:, observations_ind].T\n",
    "\n",
    "new_transition_matrix = np.zeros((n_states, n_states))\n",
    "for time_ind in range(n_time - 1):\n",
    "    for from_state in range(n_states):\n",
    "        for to_state in range(n_states):\n",
    "            new_transition_matrix[from_state, to_state] += (\n",
    "                causal_posterior[time_ind, from_state]\n",
    "                * transition_matrix[from_state, to_state]\n",
    "                * likelihood[time_ind + 1, to_state]\n",
    "                * backward_posterior[time_ind + 1, to_state]\n",
    "            ) / (\n",
    "                (\n",
    "                    causal_posterior[time_ind, to_state]\n",
    "                    * backward_posterior[time_ind, to_state]\n",
    "                    * scaling[time_ind]\n",
    "                )\n",
    "                + np.spacing(1)\n",
    "            )\n",
    "\n",
    "new_transition_matrix /= new_transition_matrix.sum(axis=1, keepdims=True)\n",
    "new_transition_matrix\n"
   ]
  },
  {
   "cell_type": "code",
   "execution_count": null,
   "metadata": {},
   "outputs": [],
   "source": [
    "new_transition_matrix = np.sum(\n",
    "    (\n",
    "        causal_posterior[:-1, :, np.newaxis]\n",
    "        * likelihood[1:, np.newaxis, :]\n",
    "        * backward_posterior[1:, np.newaxis, :]\n",
    "        * transition_matrix[np.newaxis]\n",
    "    )\n",
    "    / (\n",
    "       scaling[:-1, np.newaxis, np.newaxis]\n",
    "    ),\n",
    "    axis=0,\n",
    ")\n",
    "new_transition_matrix /= new_transition_matrix.sum(axis=1, keepdims=True)\n",
    "new_transition_matrix\n"
   ]
  },
  {
   "cell_type": "code",
   "execution_count": null,
   "metadata": {},
   "outputs": [],
   "source": [
    "\n",
    "\n",
    "new_transition_matrix = np.empty((n_states, n_states))\n",
    "\n",
    "for from_state in range(n_states):\n",
    "    for to_state in range(n_states):\n",
    "        new_transition_matrix[from_state, to_state] = np.sum(\n",
    "            causal_posterior[:-1, from_state]\n",
    "            * likelihood[1:, to_state]\n",
    "            * backward_posterior[1:, to_state]\n",
    "            * transition_matrix[from_state, to_state]\n",
    "        )\n",
    "\n",
    "new_transition_matrix /= np.exp(data_log_likelihood)\n",
    "\n",
    "new_transition_matrix /= new_transition_matrix.sum(axis=1, keepdims=True)\n",
    "new_transition_matrix\n"
   ]
  },
  {
   "cell_type": "code",
   "execution_count": null,
   "metadata": {},
   "outputs": [],
   "source": [
    "\n",
    "\n",
    "new_transition_matrix = np.empty((n_states, n_states))\n",
    "\n",
    "for from_state in range(n_states):\n",
    "    for to_state in range(n_states):\n",
    "        new_transition_matrix[from_state, to_state] = np.sum(\n",
    "            causal_posterior[:-1, from_state]\n",
    "            * likelihood[1:, to_state]\n",
    "            * acausal_posterior[1:, to_state]\n",
    "            * transition_matrix[from_state, to_state]\n",
    "            / (causal_posterior[1:, to_state] + np.spacing(1))\n",
    "        )\n",
    "        \n",
    "new_transition_matrix /= new_transition_matrix.sum(axis=1, keepdims=True)\n",
    "new_transition_matrix\n"
   ]
  },
  {
   "cell_type": "code",
   "execution_count": null,
   "metadata": {},
   "outputs": [],
   "source": [
    "np.asarray([[0.3973, 0.6027],\n",
    "\t\t\t[0.1833, 0.8167]])"
   ]
  },
  {
   "cell_type": "code",
   "execution_count": null,
   "metadata": {},
   "outputs": [],
   "source": [
    "xi = np.empty((n_time, n_states, n_states))\n",
    "\n",
    "for time_ind in range(n_time-1):\n",
    "    for from_state in range(n_states):\n",
    "        for to_state in range(n_states):\n",
    "            xi[time_ind, from_state, to_state] = (\n",
    "                causal_posterior[time_ind, from_state]\n",
    "                * likelihood[time_ind + 1, to_state]\n",
    "                * backward_posterior[time_ind + 1, to_state]\n",
    "                * transition_matrix[from_state, to_state]\n",
    "            )\n",
    "    \n",
    "    xi[time_ind] /= xi[time_ind].sum()\n",
    "\n",
    "summed_xi = xi.sum(axis=0)\n",
    "summed_xi /= summed_xi.sum(axis=1, keepdims=True)\n",
    "summed_xi"
   ]
  },
  {
   "cell_type": "code",
   "execution_count": 5,
   "metadata": {},
   "outputs": [
    {
     "data": {
      "text/plain": [
       "ConvergenceMonitor(\n",
       "    history=[-5.526291880488779, -5.2944835993605786, -5.195331843352967, -5.150553831971516, -5.128615913166218, -5.117044012600959, -5.110563698219719],\n",
       "    iter=7,\n",
       "    n_iter=10,\n",
       "    tol=0.01,\n",
       "    verbose=False,\n",
       ")"
      ]
     },
     "execution_count": 5,
     "metadata": {},
     "output_type": "execute_result"
    }
   ],
   "source": [
    "from hmmlearn import hmm\n",
    "import numpy as np\n",
    "\n",
    "initial_conditions = np.asarray([0.2, 0.8])\n",
    "transition_matrix = np.asarray([[0.5, 0.5], [0.3, 0.7]])\n",
    "emission_matrix = np.asarray([[0.3, 0.7], [0.8, 0.2]])\n",
    "\n",
    "observations = np.asarray([\"N\", \"N\", \"N\", \"N\", \"N\", \"E\", \"E\", \"N\", \"N\", \"N\"])\n",
    "observations_ind = np.asarray([0 if o == \"N\" else 1 for o in observations])\n",
    "likelihood = emission_matrix[:, observations_ind].T\n",
    "\n",
    "model = hmm.CategoricalHMM(n_components=2, init_params='', params='t', implementation='scaling', n_iter=10)\n",
    "model.startprob_ = initial_conditions\n",
    "model.transmat_ = transition_matrix\n",
    "model.emissionprob_ = emission_matrix\n",
    "\n",
    "model.fit(observations_ind[:, np.newaxis])\n",
    "\n",
    "model.monitor_"
   ]
  },
  {
   "cell_type": "code",
   "execution_count": 14,
   "metadata": {},
   "outputs": [
    {
     "data": {
      "text/plain": [
       "[<matplotlib.lines.Line2D at 0x7f871d008370>]"
      ]
     },
     "execution_count": 14,
     "metadata": {},
     "output_type": "execute_result"
    },
    {
     "data": {
      "image/png": "[encoded data removed]",
      "text/plain": [
       "<Figure size 640x480 with 1 Axes>"
      ]
     },
     "metadata": {},
     "output_type": "display_data"
    }
   ],
   "source": [
    "from src.hmm import forward, update_transition_matrix_from_parallel_smoothing, parallel_smoothing\n",
    "import numpy as np\n",
    "import matplotlib.pyplot as plt\n",
    "\n",
    "initial_conditions = np.asarray([0.2, 0.8])\n",
    "transition_matrix = np.asarray([[0.5, 0.5], [0.3, 0.7]])\n",
    "emission_matrix = np.asarray([[0.3, 0.7], [0.8, 0.2]])\n",
    "\n",
    "observations = np.asarray([\"N\", \"N\", \"N\", \"N\", \"N\", \"E\", \"E\", \"N\", \"N\", \"N\"])\n",
    "observations_ind = np.asarray([0 if o == \"N\" else 1 for o in observations])\n",
    "likelihood = emission_matrix[:, observations_ind].T\n",
    "\n",
    "dll = []\n",
    "\n",
    "for _ in range(50):\n",
    "    causal_posterior, data_log_likelihood, scaling = forward(\n",
    "        initial_conditions, observations_ind, emission_matrix, transition_matrix\n",
    "    )\n",
    "\n",
    "    backward_posterior = parallel_smoothing(\n",
    "        initial_conditions, observations_ind, emission_matrix, transition_matrix, scaling\n",
    "    )\n",
    "\n",
    "    transition_matrix = update_transition_matrix_from_parallel_smoothing(\n",
    "        causal_posterior,\n",
    "        backward_posterior,\n",
    "        likelihood,\n",
    "        transition_matrix,\n",
    "        data_log_likelihood,\n",
    "    )\n",
    "    dll.append(data_log_likelihood)\n",
    "    \n",
    "\n",
    "plt.plot(np.exp(dll))\n",
    "plt.plot(np.exp(model.monitor_.history))"
   ]
  },
  {
   "cell_type": "code",
   "execution_count": 16,
   "metadata": {},
   "outputs": [
    {
     "data": {
      "text/plain": [
       "[<matplotlib.lines.Line2D at 0x7f871d4b7010>]"
      ]
     },
     "execution_count": 16,
     "metadata": {},
     "output_type": "execute_result"
    },
    {
     "data": {
      "image/png": "[encoded data removed]",
      "text/plain": [
       "<Figure size 640x480 with 1 Axes>"
      ]
     },
     "metadata": {},
     "output_type": "display_data"
    }
   ],
   "source": [
    "from src.hmm import forward, correction_smoothing, update_transition_matrix_from_correction_smoothing\n",
    "import numpy as np\n",
    "import matplotlib.pyplot as plt\n",
    "\n",
    "initial_conditions = np.asarray([0.2, 0.8])\n",
    "transition_matrix = np.asarray([[0.5, 0.5], [0.3, 0.7]])\n",
    "emission_matrix = np.asarray([[0.3, 0.7], [0.8, 0.2]])\n",
    "\n",
    "observations = np.asarray([\"N\", \"N\", \"N\", \"N\", \"N\", \"E\", \"E\", \"N\", \"N\", \"N\"])\n",
    "observations_ind = np.asarray([0 if o == \"N\" else 1 for o in observations])\n",
    "likelihood = emission_matrix[:, observations_ind].T\n",
    "\n",
    "dll = []\n",
    "\n",
    "for _ in range(50):\n",
    "    causal_posterior, data_log_likelihood, scaling = forward(\n",
    "        initial_conditions, observations_ind, emission_matrix, transition_matrix\n",
    "    )\n",
    "\n",
    "    acausal_posterior = correction_smoothing(causal_posterior, transition_matrix)\n",
    "\n",
    "    transition_matrix = update_transition_matrix_from_correction_smoothing(\n",
    "        causal_posterior,\n",
    "        acausal_posterior,\n",
    "        likelihood,\n",
    "        transition_matrix,\n",
    "    )\n",
    "    dll.append(data_log_likelihood)\n",
    "    \n",
    "plt.plot(np.exp(dll))\n",
    "plt.plot(np.exp(model.monitor_.history))"
   ]
  },
  {
   "cell_type": "code",
   "execution_count": null,
   "metadata": {},
   "outputs": [],
   "source": []
  }
 ],
 "metadata": {
  "kernelspec": {
   "display_name": "Python 3.10.6 ('test_hmm')",
   "language": "python",
   "name": "python3"
  },
  "language_info": {
   "codemirror_mode": {
    "name": "ipython",
    "version": 3
   },
   "file_extension": ".py",
   "mimetype": "text/x-python",
   "name": "python",
   "nbconvert_exporter": "python",
   "pygments_lexer": "ipython3",
   "version": "3.10.6"
  },
  "orig_nbformat": 4,
  "vscode": {
   "interpreter": {
    "hash": "7430815ce57fe787854a3531a1da753d6c88b1e899f537a047c4da845fb9b2e1"
   }
  }
 },
 "nbformat": 4,
 "nbformat_minor": 2
}
