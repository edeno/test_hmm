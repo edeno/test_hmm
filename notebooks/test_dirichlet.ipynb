{
 "cells": [
  {
   "cell_type": "code",
   "execution_count": 1,
   "metadata": {},
   "outputs": [
    {
     "data": {
      "image/png": "[encoded data removed]",
      "text/plain": [
       "<Figure size 640x480 with 1 Axes>"
      ]
     },
     "metadata": {},
     "output_type": "display_data"
    }
   ],
   "source": [
    "import scipy.stats\n",
    "import numpy as np\n",
    "import matplotlib.pyplot as plt\n",
    "\n",
    "\n",
    "n_states = 3\n",
    "\n",
    "concentration = 0.5\n",
    "stickiness = 1.0\n",
    "\n",
    "alpha = np.ones((n_states,)) * concentration + (np.arange(n_states) == 1) * stickiness\n",
    "\n",
    "p = scipy.stats.dirichlet.rvs(alpha, size=10000)\n",
    "\n",
    "for i in range(n_states):\n",
    "    plt.hist(p[:, i], bins=np.linspace(0, 1, 100), alpha=0.25, density=True)\n"
   ]
  },
  {
   "cell_type": "code",
   "execution_count": 2,
   "metadata": {},
   "outputs": [
    {
     "data": {
      "text/plain": [
       "array([0, 1, 4])"
      ]
     },
     "execution_count": 2,
     "metadata": {},
     "output_type": "execute_result"
    }
   ],
   "source": [
    "transitions_count = scipy.stats.multinomial.rvs(1, p[0], size=5)\n",
    "\n",
    "transitions_count.sum(axis=0)\n"
   ]
  },
  {
   "cell_type": "code",
   "execution_count": 3,
   "metadata": {},
   "outputs": [
    {
     "name": "stdout",
     "output_type": "stream",
     "text": [
      "Warning: Maximum number of iterations has been exceeded.\n",
      "         Current function value: -826.826172\n",
      "         Iterations: 100\n",
      "         Function evaluations: 125\n",
      "         Gradient evaluations: 122\n",
      "         Hessian evaluations: 100\n",
      "Optimization terminated successfully.\n",
      "         Current function value: 0.500403\n",
      "         Iterations: 15\n",
      "         Function evaluations: 17\n",
      "         Gradient evaluations: 17\n",
      "         Hessian evaluations: 15\n"
     ]
    },
    {
     "data": {
      "text/plain": [
       "(array([[5.1789385e-07, 1.9999969e-01, 7.9999983e-01]], dtype=float32),\n",
       " array([[0.       , 0.4607563, 0.5392437]], dtype=float32))"
      ]
     },
     "execution_count": 3,
     "metadata": {},
     "output_type": "execute_result"
    }
   ],
   "source": [
    "from src.estimate_transition import (\n",
    "    dirichlet_neg_log_likelihood,\n",
    "    dirichlet_gradient,\n",
    "    dirichlet_hessian,\n",
    "    jax_centered_log_softmax_forward,\n",
    "    multinomial_neg_log_likelihood,\n",
    "    multinomial_gradient,\n",
    "    multinomial_hessian,\n",
    ")\n",
    "from scipy.optimize import minimize\n",
    "\n",
    "n_coefficients = 1\n",
    "n_samples = transitions_count.shape[0]\n",
    "\n",
    "\n",
    "coefficients = np.zeros((n_coefficients * (n_states - 1),))\n",
    "design_matrix = np.ones((n_samples, n_coefficients))\n",
    "response = transitions_count.copy()\n",
    "\n",
    "dirichlet_result = minimize(\n",
    "    dirichlet_neg_log_likelihood,\n",
    "    x0=coefficients,\n",
    "    method=\"Newton-CG\",\n",
    "    jac=dirichlet_gradient,\n",
    "    hess=dirichlet_hessian,\n",
    "    args=(\n",
    "        design_matrix,\n",
    "        response,\n",
    "        alpha,\n",
    "        0.0,\n",
    "    ),\n",
    "    options={\"disp\": True, \"maxiter\": 100},\n",
    ")\n",
    "\n",
    "multinomial_result = minimize(\n",
    "    multinomial_neg_log_likelihood,\n",
    "    x0=coefficients,\n",
    "    method=\"Newton-CG\",\n",
    "    jac=multinomial_gradient,\n",
    "    hess=multinomial_hessian,\n",
    "    args=(\n",
    "        design_matrix,\n",
    "        response,\n",
    "        0.0,\n",
    "    ),\n",
    "    options={\"disp\": True, \"maxiter\": 100},\n",
    ")\n",
    "\n",
    "multinomial_estimated_probs = np.exp(\n",
    "        jax_centered_log_softmax_forward(\n",
    "            multinomial_result.x.reshape((n_coefficients, n_states - 1))\n",
    "        )\n",
    ")\n",
    "\n",
    "dirichlet_estimated_probs = np.exp(\n",
    "        jax_centered_log_softmax_forward(\n",
    "            dirichlet_result.x.reshape((n_coefficients, n_states - 1))\n",
    "        )\n",
    ")\n",
    "multinomial_estimated_probs, dirichlet_estimated_probs"
   ]
  },
  {
   "cell_type": "code",
   "execution_count": 4,
   "metadata": {},
   "outputs": [
    {
     "data": {
      "text/plain": [
       "array([0.02638058, 0.49153313, 0.4820863 ])"
      ]
     },
     "execution_count": 4,
     "metadata": {},
     "output_type": "execute_result"
    }
   ],
   "source": [
    "p[0]"
   ]
  },
  {
   "cell_type": "code",
   "execution_count": 5,
   "metadata": {},
   "outputs": [
    {
     "data": {
      "text/plain": [
       "array([[0.02638006, 0.29153344, 0.31791354]])"
      ]
     },
     "execution_count": 5,
     "metadata": {},
     "output_type": "execute_result"
    }
   ],
   "source": [
    "np.abs(p[0] - multinomial_estimated_probs)"
   ]
  },
  {
   "cell_type": "code",
   "execution_count": 6,
   "metadata": {},
   "outputs": [
    {
     "data": {
      "text/plain": [
       "array([[0.02638058, 0.03077682, 0.0571574 ]])"
      ]
     },
     "execution_count": 6,
     "metadata": {},
     "output_type": "execute_result"
    }
   ],
   "source": [
    "np.abs(p[0] - dirichlet_estimated_probs)"
   ]
  },
  {
   "cell_type": "code",
   "execution_count": 7,
   "metadata": {},
   "outputs": [
    {
     "data": {
      "text/plain": [
       "array([[False,  True,  True]])"
      ]
     },
     "execution_count": 7,
     "metadata": {},
     "output_type": "execute_result"
    }
   ],
   "source": [
    "np.abs(p[0] - multinomial_estimated_probs) > np.abs(p[0] - dirichlet_estimated_probs)"
   ]
  },
  {
   "cell_type": "code",
   "execution_count": 8,
   "metadata": {},
   "outputs": [
    {
     "data": {
      "text/plain": [
       "array([0.5, 1.5, 0.5])"
      ]
     },
     "execution_count": 8,
     "metadata": {},
     "output_type": "execute_result"
    }
   ],
   "source": [
    "alpha"
   ]
  },
  {
   "cell_type": "code",
   "execution_count": null,
   "metadata": {},
   "outputs": [],
   "source": []
  }
 ],
 "metadata": {
  "kernelspec": {
   "display_name": "test_hmm",
   "language": "python",
   "name": "python3"
  },
  "language_info": {
   "codemirror_mode": {
    "name": "ipython",
    "version": 3
   },
   "file_extension": ".py",
   "mimetype": "text/x-python",
   "name": "python",
   "nbconvert_exporter": "python",
   "pygments_lexer": "ipython3",
   "version": "3.10.8"
  },
  "orig_nbformat": 4
 },
 "nbformat": 4,
 "nbformat_minor": 2
}
