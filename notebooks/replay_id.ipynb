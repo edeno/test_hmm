{
 "cells": [
  {
   "cell_type": "code",
   "execution_count": 39,
   "metadata": {},
   "outputs": [],
   "source": [
    "import numpy as np\n",
    "\n",
    "def forward(\n",
    "    initial_conditions: list[np.ndarray],\n",
    "    continuous_state_transitions: list[list[np.ndarray]],\n",
    "    discrete_state_transitions: np.ndarray,\n",
    "    likelihoods: list[list[np.ndarray]]\n",
    ") -> tuple[list[list[np.ndarray]], float]:\n",
    "    \n",
    "    n_time = len(likelihoods)\n",
    "    n_states = len(initial_conditions)\n",
    "    posterior = [[] for _ in range(n_time)]\n",
    "    \n",
    "    assert n_states == discrete_state_transitions.shape[0]\n",
    "    assert n_states == len(likelihoods[0])\n",
    "    \n",
    "    data_log_likelihood = 0.0\n",
    "    \n",
    "    # Initial step\n",
    "    time_ind = 0\n",
    "    \n",
    "    scaling = 0.0\n",
    "    for ic, likelihood in zip(initial_conditions, likelihoods[time_ind]):\n",
    "        posterior[time_ind].append(ic * likelihood)\n",
    "        scaling += np.sum(posterior[time_ind][-1])\n",
    "    \n",
    "    # Scale posterior\n",
    "    posterior[time_ind] = [post / scaling for post in posterior[time_ind]]\n",
    "    data_log_likelihood += scaling\n",
    "    \n",
    "    # Rest of time\n",
    "    for time_ind in range(1, n_time):\n",
    "        scaling = 0.0\n",
    "        \n",
    "        posterior[time_ind-1]\n",
    "        posterior[time_ind]\n",
    "        \n",
    "        for prev_state in range(n_states):\n",
    "            pass\n",
    "        \n",
    "        \n",
    "        # Scale posterior\n",
    "        posterior[time_ind] = [post / scaling for post in posterior[time_ind]]\n",
    "        data_log_likelihood += scaling\n",
    "\n",
    "    return posterior, data_log_likelihood\n",
    "    "
   ]
  },
  {
   "cell_type": "code",
   "execution_count": 40,
   "metadata": {},
   "outputs": [
    {
     "data": {
      "text/plain": [
       "([[array([1.]),\n",
       "   array([0.]),\n",
       "   array([0., 0., 0., 0., 0.]),\n",
       "   array([0., 0., 0., 0., 0.])],\n",
       "  []],\n",
       " 1.0)"
      ]
     },
     "execution_count": 40,
     "metadata": {},
     "output_type": "execute_result"
    }
   ],
   "source": [
    "# local, no spike, continuous, fragmented\n",
    "initial_conditions = [np.ones((1,)), np.zeros((1,)), np.zeros((5,)), np.zeros((5,))]\n",
    "continuous_state_transitions = [\n",
    "    [np.identity(5), np.zeros((5, 5))],\n",
    "    [np.zeros((5, 5)), np.identity(5)],\n",
    "]\n",
    "discrete_state_transitions = np.identity(4)\n",
    "likelihoods = [\n",
    "    [np.ones((1,)), np.zeros((1,)), np.zeros((5,)), np.zeros((5,))],\n",
    "    [np.ones((1,)), np.zeros((1,)), np.zeros((5,)), np.zeros((5,))],\n",
    "]\n",
    "\n",
    "forward(\n",
    "    initial_conditions,\n",
    "    continuous_state_transitions,\n",
    "    discrete_state_transitions,\n",
    "    likelihoods,\n",
    ")\n"
   ]
  },
  {
   "cell_type": "code",
   "execution_count": 95,
   "metadata": {},
   "outputs": [],
   "source": [
    "def forward2(\n",
    "    initial_conditions: np.ndarray,\n",
    "    continuous_state_transitions: np.ndarray,\n",
    "    discrete_state_transitions: np.ndarray,\n",
    "    likelihoods: np.ndarray,\n",
    "    state_ind: np.ndarray,\n",
    ") -> tuple[np.ndarray, float]:\n",
    "    \"\"\"Flat state and position bins\"\"\"\n",
    "    discrete_state_transitions_per_bin = discrete_state_transitions[state_ind[:, np.newaxis], state_ind]\n"
   ]
  },
  {
   "cell_type": "code",
   "execution_count": 171,
   "metadata": {},
   "outputs": [],
   "source": [
    "from scipy.stats import multivariate_normal\n",
    "\n",
    "\n",
    "# local, no spike, continuous, fragmented\n",
    "\n",
    "n_time = 2\n",
    "n_states = 4\n",
    "bin_sizes = [1, 1, 5, 5]\n",
    "\n",
    "state_ind = np.concatenate([ind * np.ones((bin_size,), dtype=int) for ind, bin_size in enumerate(bin_sizes)])\n",
    "n_state_bins = len(state_ind)\n",
    "\n",
    "initial_conditions = np.zeros((n_state_bins,))\n",
    "initial_conditions[state_ind == 0] = 1.0\n",
    "\n",
    "continuous_state_transitions = np.zeros((n_state_bins, n_state_bins))\n",
    "discrete_state_transitions = np.asarray([[0.9, 0.1/3, 0.1/3, 0.1/3],\n",
    "                                         [0.1/3, 0.9, 0.1/3, 0.1/3],\n",
    "                                         [0.1/3, 0.1/3, 0.9, 0.1/3],\n",
    "                                         [0.1/3, 0.1/3,0.1/3, 0.9],\n",
    "                                         ])\n",
    "discrete_state_transitions_per_bin = discrete_state_transitions[state_ind[:, np.newaxis], state_ind]\n",
    "\n",
    "\n",
    "\n",
    "continuous_state_transitions = np.zeros((n_state_bins, n_state_bins))\n",
    "from_state_ind, to_state_ind = np.meshgrid(state_ind, state_ind)\n",
    "from_state_ind, to_state_ind = from_state_ind.T, to_state_ind.T\n",
    "\n",
    "for from_state in range(n_states):\n",
    "    for to_state in range(n_states):\n",
    "        \n",
    "        inds = (from_state_ind == from_state) & (to_state_ind == to_state)\n",
    "        \n",
    "        if (bin_sizes[from_state] == 1) & (bin_sizes[to_state] == 1):\n",
    "            # transition from discrete to discrete\n",
    "            continuous_state_transitions[inds] = 1.0\n",
    "        elif (bin_sizes[from_state] > 1) & (bin_sizes[to_state] == 1):\n",
    "            # transition from continuous to discrete\n",
    "            continuous_state_transitions[inds] = 1.0\n",
    "        elif (bin_sizes[from_state] == 1) & (bin_sizes[to_state] > 1):\n",
    "            # transition from discrete to continuous\n",
    "            continuous_state_transitions[inds] = 1.0 / bin_sizes[to_state] # uniform\n",
    "        else:\n",
    "            # transition from continuous to continuous\n",
    "            if from_state != to_state:\n",
    "                continuous_state_transitions[inds] = 1.0 / bin_sizes[to_state] # uniform\n",
    "            else:\n",
    "                transition_matrix = np.stack(\n",
    "                    [\n",
    "                        multivariate_normal(\n",
    "                            mean=center, cov=6.0\n",
    "                        ).pdf(np.arange(bin_sizes[to_state]))\n",
    "                        for center in np.arange(bin_sizes[to_state])\n",
    "                    ],\n",
    "                    axis=1,\n",
    "                )\n",
    "                continuous_state_transitions[np.nonzero(inds)] = transition_matrix.ravel()\n",
    "                \n",
    "likelihoods = np.ones((n_time, n_state_bins))\n",
    "\n",
    "forward2(initial_conditions, continuous_state_transitions, discrete_state_transitions, likelihoods, state_ind)"
   ]
  },
  {
   "cell_type": "code",
   "execution_count": 175,
   "metadata": {},
   "outputs": [
    {
     "data": {
      "text/plain": [
       "array([0.9       , 0.03333333, 0.03333333, 0.03333333, 0.03333333,\n",
       "       0.03333333, 0.03333333, 0.03333333, 0.03333333, 0.03333333,\n",
       "       0.03333333, 0.03333333])"
      ]
     },
     "execution_count": 175,
     "metadata": {},
     "output_type": "execute_result"
    }
   ],
   "source": [
    "(discrete_state_transitions_per_bin * continuous_state_transitions) @ (initial_conditions * likelihoods[0])"
   ]
  },
  {
   "cell_type": "code",
   "execution_count": 99,
   "metadata": {},
   "outputs": [
    {
     "name": "stdout",
     "output_type": "stream",
     "text": [
      "['(0->0)', '(0->1)', '(0->2)', '(0->2)', '(0->2)', '(0->2)', '(0->2)', '(0->3)', '(0->3)', '(0->3)', '(0->3)', '(0->3)', '(0->3)']\n",
      "['(1->0)', '(1->1)', '(1->2)', '(1->2)', '(1->2)', '(1->2)', '(1->2)', '(1->3)', '(1->3)', '(1->3)', '(1->3)', '(1->3)', '(1->3)']\n",
      "['(2->0)', '(2->1)', '(2->2)', '(2->2)', '(2->2)', '(2->2)', '(2->2)', '(2->3)', '(2->3)', '(2->3)', '(2->3)', '(2->3)', '(2->3)']\n",
      "['(2->0)', '(2->1)', '(2->2)', '(2->2)', '(2->2)', '(2->2)', '(2->2)', '(2->3)', '(2->3)', '(2->3)', '(2->3)', '(2->3)', '(2->3)']\n",
      "['(2->0)', '(2->1)', '(2->2)', '(2->2)', '(2->2)', '(2->2)', '(2->2)', '(2->3)', '(2->3)', '(2->3)', '(2->3)', '(2->3)', '(2->3)']\n",
      "['(2->0)', '(2->1)', '(2->2)', '(2->2)', '(2->2)', '(2->2)', '(2->2)', '(2->3)', '(2->3)', '(2->3)', '(2->3)', '(2->3)', '(2->3)']\n",
      "['(2->0)', '(2->1)', '(2->2)', '(2->2)', '(2->2)', '(2->2)', '(2->2)', '(2->3)', '(2->3)', '(2->3)', '(2->3)', '(2->3)', '(2->3)']\n",
      "['(3->0)', '(3->1)', '(3->2)', '(3->2)', '(3->2)', '(3->2)', '(3->2)', '(3->3)', '(3->3)', '(3->3)', '(3->3)', '(3->3)', '(3->3)']\n",
      "['(3->0)', '(3->1)', '(3->2)', '(3->2)', '(3->2)', '(3->2)', '(3->2)', '(3->3)', '(3->3)', '(3->3)', '(3->3)', '(3->3)', '(3->3)']\n",
      "['(3->0)', '(3->1)', '(3->2)', '(3->2)', '(3->2)', '(3->2)', '(3->2)', '(3->3)', '(3->3)', '(3->3)', '(3->3)', '(3->3)', '(3->3)']\n",
      "['(3->0)', '(3->1)', '(3->2)', '(3->2)', '(3->2)', '(3->2)', '(3->2)', '(3->3)', '(3->3)', '(3->3)', '(3->3)', '(3->3)', '(3->3)']\n",
      "['(3->0)', '(3->1)', '(3->2)', '(3->2)', '(3->2)', '(3->2)', '(3->2)', '(3->3)', '(3->3)', '(3->3)', '(3->3)', '(3->3)', '(3->3)']\n",
      "['(3->0)', '(3->1)', '(3->2)', '(3->2)', '(3->2)', '(3->2)', '(3->2)', '(3->3)', '(3->3)', '(3->3)', '(3->3)', '(3->3)', '(3->3)']\n"
     ]
    }
   ],
   "source": [
    "x, y = np.meshgrid(state_ind, state_ind)\n",
    "for x_row, y_row in zip(x, y):\n",
    "    print([f\"({ind2}->{ind1})\" for ind1, ind2 in zip(x_row, y_row)])"
   ]
  },
  {
   "cell_type": "code",
   "execution_count": 131,
   "metadata": {},
   "outputs": [
    {
     "data": {
      "text/plain": [
       "array([[ 0,  1,  2,  2,  2,  2,  2,  3,  3,  3,  3,  3],\n",
       "       [ 4,  5,  6,  6,  6,  6,  6,  7,  7,  7,  7,  7],\n",
       "       [ 8,  9, 10, 10, 10, 10, 10, 11, 11, 11, 11, 11],\n",
       "       [ 8,  9, 10, 10, 10, 10, 10, 11, 11, 11, 11, 11],\n",
       "       [ 8,  9, 10, 10, 10, 10, 10, 11, 11, 11, 11, 11],\n",
       "       [ 8,  9, 10, 10, 10, 10, 10, 11, 11, 11, 11, 11],\n",
       "       [ 8,  9, 10, 10, 10, 10, 10, 11, 11, 11, 11, 11],\n",
       "       [12, 13, 14, 14, 14, 14, 14, 15, 15, 15, 15, 15],\n",
       "       [12, 13, 14, 14, 14, 14, 14, 15, 15, 15, 15, 15],\n",
       "       [12, 13, 14, 14, 14, 14, 14, 15, 15, 15, 15, 15],\n",
       "       [12, 13, 14, 14, 14, 14, 14, 15, 15, 15, 15, 15],\n",
       "       [12, 13, 14, 14, 14, 14, 14, 15, 15, 15, 15, 15]])"
      ]
     },
     "execution_count": 131,
     "metadata": {},
     "output_type": "execute_result"
    }
   ],
   "source": [
    "bin_ind = np.arange(16).reshape(4, 4)\n",
    "bin_ind = bin_ind[*np.meshgrid(state_ind, state_ind)].T\n",
    "bin_ind"
   ]
  },
  {
   "cell_type": "code",
   "execution_count": 140,
   "metadata": {},
   "outputs": [
    {
     "data": {
      "text/plain": [
       "array([[1., 1., 0., 0., 0., 0., 0., 0., 0., 0., 0., 0.],\n",
       "       [1., 1., 0., 0., 0., 0., 0., 0., 0., 0., 0., 0.],\n",
       "       [0., 0., 0., 0., 0., 0., 0., 0., 0., 0., 0., 0.],\n",
       "       [0., 0., 0., 0., 0., 0., 0., 0., 0., 0., 0., 0.],\n",
       "       [0., 0., 0., 0., 0., 0., 0., 0., 0., 0., 0., 0.],\n",
       "       [0., 0., 0., 0., 0., 0., 0., 0., 0., 0., 0., 0.],\n",
       "       [0., 0., 0., 0., 0., 0., 0., 0., 0., 0., 0., 0.],\n",
       "       [0., 0., 0., 0., 0., 0., 0., 0., 0., 0., 0., 0.],\n",
       "       [0., 0., 0., 0., 0., 0., 0., 0., 0., 0., 0., 0.],\n",
       "       [0., 0., 0., 0., 0., 0., 0., 0., 0., 0., 0., 0.],\n",
       "       [0., 0., 0., 0., 0., 0., 0., 0., 0., 0., 0., 0.],\n",
       "       [0., 0., 0., 0., 0., 0., 0., 0., 0., 0., 0., 0.]])"
      ]
     },
     "execution_count": 140,
     "metadata": {},
     "output_type": "execute_result"
    }
   ],
   "source": [
    "# discrete -> discrete\n",
    "continuous_state_transitions = np.zeros((n_state_bins, n_state_bins))\n",
    "continuous_state_transitions[np.isin(bin_ind, [0, 1, 4, 5])] = 1.0\n",
    "continuous_state_transitions"
   ]
  },
  {
   "cell_type": "code",
   "execution_count": 123,
   "metadata": {},
   "outputs": [
    {
     "data": {
      "text/plain": [
       "array([[ 0,  1,  2,  2,  2,  2,  2,  3,  3,  3,  3,  3],\n",
       "       [ 4,  5,  6,  6,  6,  6,  6,  7,  7,  7,  7,  7],\n",
       "       [ 8,  9, 10, 10, 10, 10, 10, 11, 11, 11, 11, 11],\n",
       "       [ 8,  9, 10, 10, 10, 10, 10, 11, 11, 11, 11, 11],\n",
       "       [ 8,  9, 10, 10, 10, 10, 10, 11, 11, 11, 11, 11],\n",
       "       [ 8,  9, 10, 10, 10, 10, 10, 11, 11, 11, 11, 11],\n",
       "       [ 8,  9, 10, 10, 10, 10, 10, 11, 11, 11, 11, 11],\n",
       "       [12, 13, 14, 14, 14, 14, 14, 15, 15, 15, 15, 15],\n",
       "       [12, 13, 14, 14, 14, 14, 14, 15, 15, 15, 15, 15],\n",
       "       [12, 13, 14, 14, 14, 14, 14, 15, 15, 15, 15, 15],\n",
       "       [12, 13, 14, 14, 14, 14, 14, 15, 15, 15, 15, 15],\n",
       "       [12, 13, 14, 14, 14, 14, 14, 15, 15, 15, 15, 15]])"
      ]
     },
     "execution_count": 123,
     "metadata": {},
     "output_type": "execute_result"
    }
   ],
   "source": [
    "bin_ind = np.arange(16).reshape(4, 4)\n",
    "bin_ind[state_ind[:, np.newaxis], state_ind]"
   ]
  },
  {
   "cell_type": "code",
   "execution_count": 90,
   "metadata": {},
   "outputs": [
    {
     "data": {
      "text/plain": [
       "array([[ 0,  1,  2,  3],\n",
       "       [ 4,  5,  6,  7],\n",
       "       [ 8,  9, 10, 11],\n",
       "       [12, 13, 14, 15]])"
      ]
     },
     "execution_count": 90,
     "metadata": {},
     "output_type": "execute_result"
    }
   ],
   "source": [
    "x"
   ]
  },
  {
   "cell_type": "code",
   "execution_count": 91,
   "metadata": {},
   "outputs": [
    {
     "data": {
      "text/plain": [
       "array([0, 1, 2, 2, 2, 2, 2, 3, 3, 3, 3, 3])"
      ]
     },
     "execution_count": 91,
     "metadata": {},
     "output_type": "execute_result"
    }
   ],
   "source": [
    "state_ind"
   ]
  },
  {
   "cell_type": "code",
   "execution_count": 116,
   "metadata": {},
   "outputs": [
    {
     "data": {
      "text/plain": [
       "(array([[0, 0, 0, 0, 0, 0, 0, 0, 0, 0, 0, 0],\n",
       "        [1, 1, 1, 1, 1, 1, 1, 1, 1, 1, 1, 1],\n",
       "        [2, 2, 2, 2, 2, 2, 2, 2, 2, 2, 2, 2],\n",
       "        [2, 2, 2, 2, 2, 2, 2, 2, 2, 2, 2, 2],\n",
       "        [2, 2, 2, 2, 2, 2, 2, 2, 2, 2, 2, 2],\n",
       "        [2, 2, 2, 2, 2, 2, 2, 2, 2, 2, 2, 2],\n",
       "        [2, 2, 2, 2, 2, 2, 2, 2, 2, 2, 2, 2],\n",
       "        [3, 3, 3, 3, 3, 3, 3, 3, 3, 3, 3, 3],\n",
       "        [3, 3, 3, 3, 3, 3, 3, 3, 3, 3, 3, 3],\n",
       "        [3, 3, 3, 3, 3, 3, 3, 3, 3, 3, 3, 3],\n",
       "        [3, 3, 3, 3, 3, 3, 3, 3, 3, 3, 3, 3],\n",
       "        [3, 3, 3, 3, 3, 3, 3, 3, 3, 3, 3, 3]]),\n",
       " array([[0, 1, 2, 2, 2, 2, 2, 3, 3, 3, 3, 3],\n",
       "        [0, 1, 2, 2, 2, 2, 2, 3, 3, 3, 3, 3],\n",
       "        [0, 1, 2, 2, 2, 2, 2, 3, 3, 3, 3, 3],\n",
       "        [0, 1, 2, 2, 2, 2, 2, 3, 3, 3, 3, 3],\n",
       "        [0, 1, 2, 2, 2, 2, 2, 3, 3, 3, 3, 3],\n",
       "        [0, 1, 2, 2, 2, 2, 2, 3, 3, 3, 3, 3],\n",
       "        [0, 1, 2, 2, 2, 2, 2, 3, 3, 3, 3, 3],\n",
       "        [0, 1, 2, 2, 2, 2, 2, 3, 3, 3, 3, 3],\n",
       "        [0, 1, 2, 2, 2, 2, 2, 3, 3, 3, 3, 3],\n",
       "        [0, 1, 2, 2, 2, 2, 2, 3, 3, 3, 3, 3],\n",
       "        [0, 1, 2, 2, 2, 2, 2, 3, 3, 3, 3, 3],\n",
       "        [0, 1, 2, 2, 2, 2, 2, 3, 3, 3, 3, 3]]))"
      ]
     },
     "execution_count": 116,
     "metadata": {},
     "output_type": "execute_result"
    }
   ],
   "source": [
    "from_state_ind, to_state_ind = np.meshgrid(state_ind, state_ind)\n",
    "from_state_ind, to_state_ind = from_state_ind.T, to_state_ind.T\n",
    "from_state_ind, to_state_ind"
   ]
  },
  {
   "cell_type": "code",
   "execution_count": null,
   "metadata": {},
   "outputs": [],
   "source": []
  }
 ],
 "metadata": {
  "kernelspec": {
   "display_name": "test_hmm",
   "language": "python",
   "name": "python3"
  },
  "language_info": {
   "codemirror_mode": {
    "name": "ipython",
    "version": 3
   },
   "file_extension": ".py",
   "mimetype": "text/x-python",
   "name": "python",
   "nbconvert_exporter": "python",
   "pygments_lexer": "ipython3",
   "version": "3.11.0"
  },
  "orig_nbformat": 4,
  "vscode": {
   "interpreter": {
    "hash": "c6c357aac43d0ff46917fb823d0877c209998debada17a7fc46c62b2ec31f1f3"
   }
  }
 },
 "nbformat": 4,
 "nbformat_minor": 2
}
