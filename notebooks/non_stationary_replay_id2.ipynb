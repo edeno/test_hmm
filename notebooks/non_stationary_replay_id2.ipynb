{
 "cells": [
  {
   "cell_type": "code",
   "execution_count": 1,
   "metadata": {},
   "outputs": [
    {
     "name": "stderr",
     "output_type": "stream",
     "text": [
      "WARNING:replay_trajectory_classification.core:Cupy is not installed or GPU is not detected. Ignore this message if not using GPU\n"
     ]
    }
   ],
   "source": [
    "from src.test_non_local_switching_non_stationary_model import load_data\n",
    "\n",
    "is_ripple, spikes, position, speed, env, time = load_data(work_computer=False)\n"
   ]
  },
  {
   "cell_type": "code",
   "execution_count": 2,
   "metadata": {},
   "outputs": [],
   "source": [
    "from src.test_non_local_switching_non_stationary_model import (\n",
    "    setup_nonlocal_switching_model,\n",
    ")\n",
    "\n",
    "\n",
    "(\n",
    "    emission_design_matrix,\n",
    "    emission_predict_matrix,\n",
    "    initial_conditions,\n",
    "    discrete_state_transitions,\n",
    "    discrete_transition_coefficients,\n",
    "    discrete_transition_design_matrix,\n",
    "    continuous_state_transitions,\n",
    "    state_ind,\n",
    "    zero_rates,\n",
    "    is_training,\n",
    "    state_names,\n",
    ") = setup_nonlocal_switching_model(\n",
    "    is_ripple,\n",
    "    spikes,\n",
    "    position,\n",
    "    speed,\n",
    "    env,\n",
    "    no_spike_rate_threshold=0.1,\n",
    "    no_spike_smoothing_sigma=0.015,\n",
    "    is_stationary_discrete_transition=False,\n",
    "    speed_knots=None,\n",
    "    sampling_frequency=500,\n",
    "    df=15,\n",
    "    no_spike_rate=1e-05,\n",
    ")\n"
   ]
  },
  {
   "cell_type": "code",
   "execution_count": 3,
   "metadata": {},
   "outputs": [
    {
     "ename": "ValueError",
     "evalue": "operands could not be broadcast together with shapes (452325,3,3) (203,203) ",
     "output_type": "error",
     "traceback": [
      "\u001b[0;31m---------------------------------------------------------------------------\u001b[0m",
      "\u001b[0;31mValueError\u001b[0m                                Traceback (most recent call last)",
      "\u001b[1;32m/Users/edeno/Documents/GitHub/test_hmm/notebooks/non_stationary_replay_id2.ipynb Cell 3\u001b[0m in \u001b[0;36m<cell line: 1>\u001b[0;34m()\u001b[0m\n\u001b[0;32m----> <a href='vscode-notebook-cell:/Users/edeno/Documents/GitHub/test_hmm/notebooks/non_stationary_replay_id2.ipynb#W2sZmlsZQ%3D%3D?line=0'>1</a>\u001b[0m discrete_state_transitions \u001b[39m*\u001b[39;49m continuous_state_transitions\n",
      "\u001b[0;31mValueError\u001b[0m: operands could not be broadcast together with shapes (452325,3,3) (203,203) "
     ]
    }
   ],
   "source": [
    "discrete_state_transitions * continuous_state_transitions"
   ]
  },
  {
   "cell_type": "code",
   "execution_count": null,
   "metadata": {},
   "outputs": [],
   "source": [
    "continuous_state_transitions.shape"
   ]
  },
  {
   "cell_type": "code",
   "execution_count": null,
   "metadata": {},
   "outputs": [],
   "source": [
    "import numpy as np\n",
    "\n",
    "discrete_state_transitions_per_bin = discrete_state_transitions[\n",
    "    :, np.ix_(state_ind, state_ind)\n",
    "]\n",
    "\n",
    "transition_matrix = (\n",
    "    discrete_state_transitions_per_bin * continuous_state_transitions\n",
    ")"
   ]
  },
  {
   "cell_type": "code",
   "execution_count": null,
   "metadata": {},
   "outputs": [],
   "source": [
    "n_time = spikes.shape[0]\n",
    "discrete_state_transitions[\n",
    "    np.ix_(np.arange(n_time), state_ind, state_ind)\n",
    "]"
   ]
  },
  {
   "cell_type": "code",
   "execution_count": 7,
   "metadata": {},
   "outputs": [
    {
     "ename": "SyntaxError",
     "evalue": "invalid syntax (1428053122.py, line 3)",
     "output_type": "error",
     "traceback": [
      "\u001b[0;36m  Input \u001b[0;32mIn [7]\u001b[0;36m\u001b[0m\n\u001b[0;31m    :, *np.ix_(state_ind, state_ind)\u001b[0m\n\u001b[0m       ^\u001b[0m\n\u001b[0;31mSyntaxError\u001b[0m\u001b[0;31m:\u001b[0m invalid syntax\n"
     ]
    }
   ],
   "source": [
    "import numpy as np\n",
    "discrete_state_transitions[\n",
    "    np.ix_(np.arange(spikes.shape[0]), state_ind, state_ind)\n",
    "].shape\n"
   ]
  },
  {
   "cell_type": "code",
   "execution_count": 9,
   "metadata": {},
   "outputs": [
    {
     "data": {
      "text/plain": [
       "(452325, 3, 3)"
      ]
     },
     "execution_count": 9,
     "metadata": {},
     "output_type": "execute_result"
    }
   ],
   "source": [
    "discrete_state_transitions.shape"
   ]
  },
  {
   "cell_type": "code",
   "execution_count": 10,
   "metadata": {},
   "outputs": [
    {
     "data": {
      "text/plain": [
       "(203, 203)"
      ]
     },
     "execution_count": 10,
     "metadata": {},
     "output_type": "execute_result"
    }
   ],
   "source": [
    "continuous_state_transitions.shape"
   ]
  },
  {
   "cell_type": "code",
   "execution_count": 15,
   "metadata": {},
   "outputs": [
    {
     "data": {
      "text/plain": [
       "array([[1., 1.],\n",
       "       [1., 1.],\n",
       "       [1., 1.],\n",
       "       [1., 1.]])"
      ]
     },
     "execution_count": 15,
     "metadata": {},
     "output_type": "execute_result"
    }
   ],
   "source": [
    "blah = np.ones((4, 2))\n",
    "blah"
   ]
  },
  {
   "cell_type": "code",
   "execution_count": 23,
   "metadata": {},
   "outputs": [
    {
     "data": {
      "text/plain": [
       "array([[1., 1., 0.],\n",
       "       [1., 1., 0.],\n",
       "       [1., 1., 0.],\n",
       "       [1., 1., 0.]])"
      ]
     },
     "execution_count": 23,
     "metadata": {},
     "output_type": "execute_result"
    }
   ],
   "source": [
    "np.insert(blah, 2, np.zeros((4,)), axis=1)"
   ]
  },
  {
   "cell_type": "code",
   "execution_count": null,
   "metadata": {},
   "outputs": [],
   "source": []
  }
 ],
 "metadata": {
  "kernelspec": {
   "display_name": "test_hmm",
   "language": "python",
   "name": "python3"
  },
  "language_info": {
   "codemirror_mode": {
    "name": "ipython",
    "version": 3
   },
   "file_extension": ".py",
   "mimetype": "text/x-python",
   "name": "python",
   "nbconvert_exporter": "python",
   "pygments_lexer": "ipython3",
   "version": "3.10.8"
  },
  "orig_nbformat": 4
 },
 "nbformat": 4,
 "nbformat_minor": 2
}
