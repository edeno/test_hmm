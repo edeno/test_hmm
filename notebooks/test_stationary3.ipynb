{
 "cells": [
  {
   "cell_type": "code",
   "execution_count": null,
   "metadata": {},
   "outputs": [],
   "source": [
    "from src.test_non_local_switching_non_stationary_model import load_data\n",
    "\n",
    "is_ripple, spikes, position, speed, env, time = load_data(work_computer=False)\n"
   ]
  },
  {
   "cell_type": "code",
   "execution_count": null,
   "metadata": {},
   "outputs": [],
   "source": [
    "from src.test_non_local_switching_non_stationary_model import (\n",
    "    setup_nonlocal_switching_model,\n",
    ")\n",
    "\n",
    "(\n",
    "    emission_design_matrix,\n",
    "    emission_predict_matrix,\n",
    "    initial_conditions,\n",
    "    discrete_state_transitions,\n",
    "    discrete_transition_coefficients,\n",
    "    discrete_transition_design_matrix,\n",
    "    continuous_state_transitions,\n",
    "    state_ind,\n",
    "    zero_rates,\n",
    "    is_training,\n",
    "    state_names,\n",
    ") = setup_nonlocal_switching_model(\n",
    "    is_ripple,\n",
    "    spikes,\n",
    "    position,\n",
    "    speed,\n",
    "    env,\n",
    "    no_spike_rate_threshold=0.01,\n",
    "    is_stationary_discrete_transition=True,\n",
    "    include_no_spike_state=True,\n",
    ")\n"
   ]
  },
  {
   "cell_type": "code",
   "execution_count": null,
   "metadata": {},
   "outputs": [],
   "source": [
    "import numpy as np\n",
    "\n",
    "\n",
    "log_likelihood = np.load(\"log_likelihood.npy\")"
   ]
  },
  {
   "cell_type": "code",
   "execution_count": null,
   "metadata": {},
   "outputs": [],
   "source": [
    "discrete_state_transitions[0, 0]\n"
   ]
  },
  {
   "cell_type": "code",
   "execution_count": null,
   "metadata": {},
   "outputs": [],
   "source": [
    "discrete_state_transitions[1, 1]\n"
   ]
  },
  {
   "cell_type": "code",
   "execution_count": null,
   "metadata": {},
   "outputs": [],
   "source": [
    "discrete_state_transitions.sum(axis=1)"
   ]
  },
  {
   "cell_type": "code",
   "execution_count": null,
   "metadata": {},
   "outputs": [],
   "source": [
    "discrete_state_transitions[2, 2]\n"
   ]
  },
  {
   "cell_type": "code",
   "execution_count": null,
   "metadata": {},
   "outputs": [],
   "source": [
    "import numpy as np\n",
    "\n",
    "blah = np.ones((3, 3)) * 1.1 + np.eye(3) * 1000\n",
    "\n",
    "blah / blah.sum(axis=1, keepdims=True)"
   ]
  },
  {
   "cell_type": "code",
   "execution_count": null,
   "metadata": {},
   "outputs": [],
   "source": [
    "from src.test_non_local_switching_non_stationary_model import fit_switching_model\n",
    "import numpy as np\n",
    "\n",
    "stickiness = np.zeros((3,1))\n",
    "stickiness[0] = 65\n",
    "stickiness[1] = 1000\n",
    "stickiness[2] = 65\n",
    "\n",
    "(\n",
    "    predicted_state,\n",
    "    acausal_posterior,\n",
    "    acausal_state_probabilities,\n",
    "    causal_posterior,\n",
    "    marginal_log_likelihoods,\n",
    "    initial_conditions,\n",
    "    discrete_state_transitions,\n",
    "    discrete_transition_coefficients,\n",
    "    discrete_transition_design_matrix,\n",
    "    non_local_rates,\n",
    ") = fit_switching_model(\n",
    "    spikes,\n",
    "    emission_design_matrix,\n",
    "    emission_predict_matrix,\n",
    "    initial_conditions,\n",
    "    discrete_state_transitions,\n",
    "    continuous_state_transitions,\n",
    "    state_ind,\n",
    "    zero_rates,\n",
    "    is_training,\n",
    "    env,\n",
    "    discrete_transition_coefficients=discrete_transition_coefficients,\n",
    "    discrete_transition_design_matrix=discrete_transition_design_matrix,\n",
    "    max_iter=20,\n",
    "    fit_inital_conditions=False,\n",
    "    fit_discrete_transition=True,\n",
    "    fit_likelihood=False,\n",
    "    is_no_spike_transition_constant=False,\n",
    "    concentration=1.1,\n",
    "    stickiness=stickiness,\n",
    "    log_likelihood=log_likelihood,\n",
    ")\n"
   ]
  },
  {
   "cell_type": "code",
   "execution_count": null,
   "metadata": {},
   "outputs": [],
   "source": [
    "non_local_rates = np.load(\"non_local_rates.npy\")"
   ]
  },
  {
   "cell_type": "code",
   "execution_count": null,
   "metadata": {},
   "outputs": [],
   "source": [
    "from src.test_non_local_switching_non_stationary_model import plot_switching_model\n",
    "\n",
    "\n",
    "plot_switching_model(\n",
    "    time,\n",
    "    position,\n",
    "    spikes,\n",
    "    speed,\n",
    "    non_local_rates,\n",
    "    env,\n",
    "    state_ind,\n",
    "    acausal_state_probabilities,\n",
    "    acausal_posterior,\n",
    "    state_names,\n",
    "    time_slice=slice(100_000, 105_000),\n",
    ")\n"
   ]
  },
  {
   "cell_type": "code",
   "execution_count": null,
   "metadata": {},
   "outputs": [],
   "source": [
    "plot_switching_model(\n",
    "    time,\n",
    "    position,\n",
    "    spikes,\n",
    "    speed,\n",
    "    non_local_rates,\n",
    "    env,\n",
    "    state_ind,\n",
    "    acausal_state_probabilities,\n",
    "    acausal_posterior,\n",
    "    state_names,\n",
    "    time_slice=slice(105_000, 107_000),\n",
    ")\n"
   ]
  },
  {
   "cell_type": "code",
   "execution_count": null,
   "metadata": {},
   "outputs": [],
   "source": [
    "plot_switching_model(\n",
    "    time,\n",
    "    position,\n",
    "    spikes,\n",
    "    speed,\n",
    "    non_local_rates,\n",
    "    env,\n",
    "    state_ind,\n",
    "    acausal_state_probabilities,\n",
    "    acausal_posterior,\n",
    "    state_names,\n",
    "    time_slice=slice(205_000, 207_000),\n",
    ")\n"
   ]
  },
  {
   "cell_type": "code",
   "execution_count": null,
   "metadata": {},
   "outputs": [],
   "source": [
    "plot_switching_model(\n",
    "    time,\n",
    "    position,\n",
    "    spikes,\n",
    "    speed,\n",
    "    non_local_rates,\n",
    "    env,\n",
    "    state_ind,\n",
    "    acausal_state_probabilities,\n",
    "    acausal_posterior,\n",
    "    state_names,\n",
    "    time_slice=slice(210_000, 220_000),\n",
    ")\n"
   ]
  },
  {
   "cell_type": "code",
   "execution_count": null,
   "metadata": {},
   "outputs": [],
   "source": [
    "plot_switching_model(\n",
    "    time,\n",
    "    position,\n",
    "    spikes,\n",
    "    speed,\n",
    "    non_local_rates,\n",
    "    env,\n",
    "    state_ind,\n",
    "    acausal_state_probabilities,\n",
    "    acausal_posterior,\n",
    "    state_names,\n",
    "    time_slice=slice(220_000, 240_000),\n",
    ")\n"
   ]
  },
  {
   "cell_type": "code",
   "execution_count": null,
   "metadata": {},
   "outputs": [],
   "source": [
    "plot_switching_model(\n",
    "    time,\n",
    "    position,\n",
    "    spikes,\n",
    "    speed,\n",
    "    non_local_rates,\n",
    "    env,\n",
    "    state_ind,\n",
    "    acausal_state_probabilities,\n",
    "    acausal_posterior,\n",
    "    state_names,\n",
    "    time_slice=slice(220_000, 225_000),\n",
    ")\n"
   ]
  },
  {
   "cell_type": "code",
   "execution_count": null,
   "metadata": {},
   "outputs": [],
   "source": [
    "plot_switching_model(\n",
    "    time,\n",
    "    position,\n",
    "    spikes,\n",
    "    speed,\n",
    "    non_local_rates,\n",
    "    env,\n",
    "    state_ind,\n",
    "    acausal_state_probabilities,\n",
    "    acausal_posterior,\n",
    "    state_names,\n",
    "    time_slice=slice(186_000, 189_000),\n",
    "    figsize=(20, 10),\n",
    ")\n"
   ]
  },
  {
   "cell_type": "code",
   "execution_count": null,
   "metadata": {},
   "outputs": [],
   "source": [
    "plot_switching_model(\n",
    "    time,\n",
    "    position,\n",
    "    spikes,\n",
    "    speed,\n",
    "    non_local_rates,\n",
    "    env,\n",
    "    state_ind,\n",
    "    acausal_state_probabilities,\n",
    "    acausal_posterior,\n",
    "    state_names,\n",
    "    time_slice=slice(50_000, 60_000),\n",
    ")\n"
   ]
  },
  {
   "cell_type": "code",
   "execution_count": null,
   "metadata": {},
   "outputs": [],
   "source": [
    "discrete_state_transitions[0, 0]\n"
   ]
  },
  {
   "cell_type": "code",
   "execution_count": null,
   "metadata": {},
   "outputs": [],
   "source": [
    "discrete_state_transitions[1, 1]\n"
   ]
  },
  {
   "cell_type": "code",
   "execution_count": null,
   "metadata": {},
   "outputs": [],
   "source": [
    "discrete_state_transitions[2, 2]\n"
   ]
  },
  {
   "cell_type": "code",
   "execution_count": null,
   "metadata": {},
   "outputs": [],
   "source": [
    "import seaborn as sns\n",
    "import matplotlib.pyplot as plt\n",
    "\n",
    "vmin, vmax, fmt = 0.0, 1.0, \"0.03f\"\n",
    "label = \"Probability\"\n",
    "cmap = \"Oranges\"\n",
    "\n",
    "fig, ax = plt.subplots(1, 1, figsize=(7, 6))\n",
    "sns.heatmap(\n",
    "    data=discrete_state_transitions,\n",
    "    vmin=vmin,\n",
    "    vmax=vmax,\n",
    "    annot=True,\n",
    "    fmt=fmt,\n",
    "    cmap=cmap,\n",
    "    xticklabels=state_names,\n",
    "    yticklabels=state_names,\n",
    "    ax=ax,\n",
    "    cbar_kws={\"label\": label},\n",
    ")\n",
    "ax.set_ylabel(\"Previous State\", fontsize=12)\n",
    "ax.set_xlabel(\"Current State\", fontsize=12)\n",
    "ax.set_title(\"Discrete State Transition\", fontsize=16)"
   ]
  },
  {
   "cell_type": "code",
   "execution_count": null,
   "metadata": {},
   "outputs": [],
   "source": []
  }
 ],
 "metadata": {
  "kernelspec": {
   "display_name": "test_hmm",
   "language": "python",
   "name": "python3"
  },
  "language_info": {
   "codemirror_mode": {
    "name": "ipython",
    "version": 3
   },
   "file_extension": ".py",
   "mimetype": "text/x-python",
   "name": "python",
   "nbconvert_exporter": "python",
   "pygments_lexer": "ipython3",
   "version": "3.10.8"
  },
  "orig_nbformat": 4
 },
 "nbformat": 4,
 "nbformat_minor": 2
}
